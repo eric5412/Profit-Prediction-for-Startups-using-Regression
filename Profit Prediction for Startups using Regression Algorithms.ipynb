{
 "cells": [
  {
   "cell_type": "markdown",
   "id": "4b514d0d",
   "metadata": {},
   "source": [
    "# Profit Prediction for Startups using Regression Algorithms"
   ]
  },
  {
   "cell_type": "markdown",
   "id": "c3ae59da",
   "metadata": {},
   "source": [
    "### Introduction:\n",
    "The scope of this project was to analyze data for 50 startup companies located in different \n",
    "States. The aim was to use Regression Machine Learning algorithms to predict Profit \n",
    "based on several features. These features consisted of R&D Spend, Administration Spend, \n",
    "Marketing Spend, and State.\n",
    "\n",
    "\n",
    "**Data Source:** 50 Startups dataset on [Kaggle](https://www.kaggle.com/datasets/farhanmd29/50-startups)\n",
    "<br>"
   ]
  },
  {
   "cell_type": "markdown",
   "id": "7045b9ab",
   "metadata": {},
   "source": [
    "### Importing the Libraries:"
   ]
  },
  {
   "cell_type": "code",
   "execution_count": 1,
   "id": "65537c5f",
   "metadata": {},
   "outputs": [],
   "source": [
    "# To import the libraries:\n",
    "import pandas as pd\n",
    "import numpy as np\n",
    "import matplotlib.pyplot as plt\n",
    "import matplotlib.ticker as mtick\n",
    "import seaborn as sns\n",
    "pd.options.display.float_format = '{:,.4f}'.format\n",
    "from sklearn.model_selection import train_test_split\n",
    "from sklearn.linear_model import LinearRegression\n",
    "from sklearn.linear_model import Ridge, RidgeCV, Lasso\n",
    "from sklearn.linear_model import ElasticNet\n",
    "from sklearn.neighbors import KNeighborsRegressor\n",
    "from sklearn.tree import DecisionTreeRegressor\n",
    "from sklearn.ensemble import RandomForestRegressor\n",
    "from xgboost import XGBRegressor\n",
    "from catboost import CatBoostRegressor\n",
    "from lightgbm import LGBMRegressor\n",
    "from sklearn.ensemble import AdaBoostRegressor\n",
    "from sklearn.preprocessing import StandardScaler\n",
    "from sklearn.metrics import mean_absolute_error, mean_squared_error, r2_score "
   ]
  },
  {
   "cell_type": "markdown",
   "id": "71b9f397",
   "metadata": {},
   "source": [
    "### Loading the Data:"
   ]
  },
  {
   "cell_type": "code",
   "execution_count": 2,
   "id": "a44b25db",
   "metadata": {},
   "outputs": [],
   "source": [
    "# To load the data and to save it to a data frame:\n",
    "startup_df = pd.read_csv(\"50_startups.csv\")"
   ]
  },
  {
   "cell_type": "markdown",
   "id": "396d79e3",
   "metadata": {},
   "source": [
    "### Viewing the Data:"
   ]
  },
  {
   "cell_type": "code",
   "execution_count": 3,
   "id": "619d906f",
   "metadata": {},
   "outputs": [
    {
     "data": {
      "text/html": [
       "<div>\n",
       "<style scoped>\n",
       "    .dataframe tbody tr th:only-of-type {\n",
       "        vertical-align: middle;\n",
       "    }\n",
       "\n",
       "    .dataframe tbody tr th {\n",
       "        vertical-align: top;\n",
       "    }\n",
       "\n",
       "    .dataframe thead th {\n",
       "        text-align: right;\n",
       "    }\n",
       "</style>\n",
       "<table border=\"1\" class=\"dataframe\">\n",
       "  <thead>\n",
       "    <tr style=\"text-align: right;\">\n",
       "      <th></th>\n",
       "      <th>R&amp;D Spend</th>\n",
       "      <th>Administration</th>\n",
       "      <th>Marketing Spend</th>\n",
       "      <th>State</th>\n",
       "      <th>Profit</th>\n",
       "    </tr>\n",
       "  </thead>\n",
       "  <tbody>\n",
       "    <tr>\n",
       "      <th>0</th>\n",
       "      <td>165,349.2000</td>\n",
       "      <td>136,897.8000</td>\n",
       "      <td>471,784.1000</td>\n",
       "      <td>New York</td>\n",
       "      <td>192,261.8300</td>\n",
       "    </tr>\n",
       "    <tr>\n",
       "      <th>1</th>\n",
       "      <td>162,597.7000</td>\n",
       "      <td>151,377.5900</td>\n",
       "      <td>443,898.5300</td>\n",
       "      <td>California</td>\n",
       "      <td>191,792.0600</td>\n",
       "    </tr>\n",
       "    <tr>\n",
       "      <th>2</th>\n",
       "      <td>153,441.5100</td>\n",
       "      <td>101,145.5500</td>\n",
       "      <td>407,934.5400</td>\n",
       "      <td>Florida</td>\n",
       "      <td>191,050.3900</td>\n",
       "    </tr>\n",
       "    <tr>\n",
       "      <th>3</th>\n",
       "      <td>144,372.4100</td>\n",
       "      <td>118,671.8500</td>\n",
       "      <td>383,199.6200</td>\n",
       "      <td>New York</td>\n",
       "      <td>182,901.9900</td>\n",
       "    </tr>\n",
       "    <tr>\n",
       "      <th>4</th>\n",
       "      <td>142,107.3400</td>\n",
       "      <td>91,391.7700</td>\n",
       "      <td>366,168.4200</td>\n",
       "      <td>Florida</td>\n",
       "      <td>166,187.9400</td>\n",
       "    </tr>\n",
       "    <tr>\n",
       "      <th>5</th>\n",
       "      <td>131,876.9000</td>\n",
       "      <td>99,814.7100</td>\n",
       "      <td>362,861.3600</td>\n",
       "      <td>New York</td>\n",
       "      <td>156,991.1200</td>\n",
       "    </tr>\n",
       "  </tbody>\n",
       "</table>\n",
       "</div>"
      ],
      "text/plain": [
       "     R&D Spend  Administration  Marketing Spend       State       Profit\n",
       "0 165,349.2000    136,897.8000     471,784.1000    New York 192,261.8300\n",
       "1 162,597.7000    151,377.5900     443,898.5300  California 191,792.0600\n",
       "2 153,441.5100    101,145.5500     407,934.5400     Florida 191,050.3900\n",
       "3 144,372.4100    118,671.8500     383,199.6200    New York 182,901.9900\n",
       "4 142,107.3400     91,391.7700     366,168.4200     Florida 166,187.9400\n",
       "5 131,876.9000     99,814.7100     362,861.3600    New York 156,991.1200"
      ]
     },
     "execution_count": 3,
     "metadata": {},
     "output_type": "execute_result"
    }
   ],
   "source": [
    "# To view the first six rows of the data frame:\n",
    "startup_df.head(6)"
   ]
  },
  {
   "cell_type": "markdown",
   "id": "c19206d6",
   "metadata": {},
   "source": [
    "### Viewing the Structure of the Data:"
   ]
  },
  {
   "cell_type": "code",
   "execution_count": 4,
   "id": "2130fc9b",
   "metadata": {},
   "outputs": [
    {
     "name": "stdout",
     "output_type": "stream",
     "text": [
      "<class 'pandas.core.frame.DataFrame'>\n",
      "RangeIndex: 50 entries, 0 to 49\n",
      "Data columns (total 5 columns):\n",
      " #   Column           Non-Null Count  Dtype  \n",
      "---  ------           --------------  -----  \n",
      " 0   R&D Spend        50 non-null     float64\n",
      " 1   Administration   50 non-null     float64\n",
      " 2   Marketing Spend  50 non-null     float64\n",
      " 3   State            50 non-null     object \n",
      " 4   Profit           50 non-null     float64\n",
      "dtypes: float64(4), object(1)\n",
      "memory usage: 2.1+ KB\n"
     ]
    }
   ],
   "source": [
    "# To view the structure of the data frame:\n",
    "startup_df.info()"
   ]
  },
  {
   "cell_type": "markdown",
   "id": "39b26cab",
   "metadata": {},
   "source": [
    "The data frame contains 50 rows and 5 columns.<br><br>"
   ]
  },
  {
   "cell_type": "code",
   "execution_count": 5,
   "id": "8ddcbf28",
   "metadata": {},
   "outputs": [
    {
     "data": {
      "text/plain": [
       "R&D Spend          0\n",
       "Administration     0\n",
       "Marketing Spend    0\n",
       "State              0\n",
       "Profit             0\n",
       "dtype: int64"
      ]
     },
     "execution_count": 5,
     "metadata": {},
     "output_type": "execute_result"
    }
   ],
   "source": [
    "# To check each column for missing values:\n",
    "missing_values = startup_df.isna().sum()\n",
    "missing_values"
   ]
  },
  {
   "cell_type": "markdown",
   "id": "e86d2338",
   "metadata": {},
   "source": [
    "There were no missing values in the data frame."
   ]
  },
  {
   "cell_type": "markdown",
   "id": "63e6c7a2",
   "metadata": {},
   "source": [
    "### Summary Statistics:"
   ]
  },
  {
   "cell_type": "code",
   "execution_count": 6,
   "id": "e7d80efe",
   "metadata": {},
   "outputs": [
    {
     "data": {
      "text/html": [
       "<div>\n",
       "<style scoped>\n",
       "    .dataframe tbody tr th:only-of-type {\n",
       "        vertical-align: middle;\n",
       "    }\n",
       "\n",
       "    .dataframe tbody tr th {\n",
       "        vertical-align: top;\n",
       "    }\n",
       "\n",
       "    .dataframe thead th {\n",
       "        text-align: right;\n",
       "    }\n",
       "</style>\n",
       "<table border=\"1\" class=\"dataframe\">\n",
       "  <thead>\n",
       "    <tr style=\"text-align: right;\">\n",
       "      <th></th>\n",
       "      <th>R&amp;D Spend</th>\n",
       "      <th>Administration</th>\n",
       "      <th>Marketing Spend</th>\n",
       "      <th>Profit</th>\n",
       "    </tr>\n",
       "  </thead>\n",
       "  <tbody>\n",
       "    <tr>\n",
       "      <th>count</th>\n",
       "      <td>50.0000</td>\n",
       "      <td>50.0000</td>\n",
       "      <td>50.0000</td>\n",
       "      <td>50.0000</td>\n",
       "    </tr>\n",
       "    <tr>\n",
       "      <th>mean</th>\n",
       "      <td>73,721.6156</td>\n",
       "      <td>121,344.6396</td>\n",
       "      <td>211,025.0978</td>\n",
       "      <td>112,012.6392</td>\n",
       "    </tr>\n",
       "    <tr>\n",
       "      <th>std</th>\n",
       "      <td>45,902.2565</td>\n",
       "      <td>28,017.8028</td>\n",
       "      <td>122,290.3107</td>\n",
       "      <td>40,306.1803</td>\n",
       "    </tr>\n",
       "    <tr>\n",
       "      <th>min</th>\n",
       "      <td>0.0000</td>\n",
       "      <td>51,283.1400</td>\n",
       "      <td>0.0000</td>\n",
       "      <td>14,681.4000</td>\n",
       "    </tr>\n",
       "    <tr>\n",
       "      <th>25%</th>\n",
       "      <td>39,936.3700</td>\n",
       "      <td>103,730.8750</td>\n",
       "      <td>129,300.1325</td>\n",
       "      <td>90,138.9025</td>\n",
       "    </tr>\n",
       "    <tr>\n",
       "      <th>50%</th>\n",
       "      <td>73,051.0800</td>\n",
       "      <td>122,699.7950</td>\n",
       "      <td>212,716.2400</td>\n",
       "      <td>107,978.1900</td>\n",
       "    </tr>\n",
       "    <tr>\n",
       "      <th>75%</th>\n",
       "      <td>101,602.8000</td>\n",
       "      <td>144,842.1800</td>\n",
       "      <td>299,469.0850</td>\n",
       "      <td>139,765.9775</td>\n",
       "    </tr>\n",
       "    <tr>\n",
       "      <th>max</th>\n",
       "      <td>165,349.2000</td>\n",
       "      <td>182,645.5600</td>\n",
       "      <td>471,784.1000</td>\n",
       "      <td>192,261.8300</td>\n",
       "    </tr>\n",
       "  </tbody>\n",
       "</table>\n",
       "</div>"
      ],
      "text/plain": [
       "         R&D Spend  Administration  Marketing Spend       Profit\n",
       "count      50.0000         50.0000          50.0000      50.0000\n",
       "mean   73,721.6156    121,344.6396     211,025.0978 112,012.6392\n",
       "std    45,902.2565     28,017.8028     122,290.3107  40,306.1803\n",
       "min         0.0000     51,283.1400           0.0000  14,681.4000\n",
       "25%    39,936.3700    103,730.8750     129,300.1325  90,138.9025\n",
       "50%    73,051.0800    122,699.7950     212,716.2400 107,978.1900\n",
       "75%   101,602.8000    144,842.1800     299,469.0850 139,765.9775\n",
       "max   165,349.2000    182,645.5600     471,784.1000 192,261.8300"
      ]
     },
     "execution_count": 6,
     "metadata": {},
     "output_type": "execute_result"
    }
   ],
   "source": [
    "# To view summary statistics:\n",
    "startup_df.describe()"
   ]
  },
  {
   "cell_type": "markdown",
   "id": "1e023fb4",
   "metadata": {},
   "source": [
    "The most expensive spending category was Marketing. There was an R&D Spend value of \\\\$0 and there was a Marketing Spend value of $0."
   ]
  },
  {
   "cell_type": "markdown",
   "id": "08eabace",
   "metadata": {},
   "source": [
    "# Exploratory Data Analysis:"
   ]
  },
  {
   "cell_type": "code",
   "execution_count": 7,
   "id": "585e15b9",
   "metadata": {},
   "outputs": [
    {
     "data": {
      "text/html": [
       "<div>\n",
       "<style scoped>\n",
       "    .dataframe tbody tr th:only-of-type {\n",
       "        vertical-align: middle;\n",
       "    }\n",
       "\n",
       "    .dataframe tbody tr th {\n",
       "        vertical-align: top;\n",
       "    }\n",
       "\n",
       "    .dataframe thead th {\n",
       "        text-align: right;\n",
       "    }\n",
       "</style>\n",
       "<table border=\"1\" class=\"dataframe\">\n",
       "  <thead>\n",
       "    <tr style=\"text-align: right;\">\n",
       "      <th></th>\n",
       "      <th>R&amp;D Spend</th>\n",
       "      <th>Administration</th>\n",
       "      <th>Marketing Spend</th>\n",
       "      <th>Profit</th>\n",
       "    </tr>\n",
       "  </thead>\n",
       "  <tbody>\n",
       "    <tr>\n",
       "      <th>R&amp;D Spend</th>\n",
       "      <td>1.0000</td>\n",
       "      <td>0.2420</td>\n",
       "      <td>0.7242</td>\n",
       "      <td>0.9729</td>\n",
       "    </tr>\n",
       "    <tr>\n",
       "      <th>Administration</th>\n",
       "      <td>0.2420</td>\n",
       "      <td>1.0000</td>\n",
       "      <td>-0.0322</td>\n",
       "      <td>0.2007</td>\n",
       "    </tr>\n",
       "    <tr>\n",
       "      <th>Marketing Spend</th>\n",
       "      <td>0.7242</td>\n",
       "      <td>-0.0322</td>\n",
       "      <td>1.0000</td>\n",
       "      <td>0.7478</td>\n",
       "    </tr>\n",
       "    <tr>\n",
       "      <th>Profit</th>\n",
       "      <td>0.9729</td>\n",
       "      <td>0.2007</td>\n",
       "      <td>0.7478</td>\n",
       "      <td>1.0000</td>\n",
       "    </tr>\n",
       "  </tbody>\n",
       "</table>\n",
       "</div>"
      ],
      "text/plain": [
       "                 R&D Spend  Administration  Marketing Spend  Profit\n",
       "R&D Spend           1.0000          0.2420           0.7242  0.9729\n",
       "Administration      0.2420          1.0000          -0.0322  0.2007\n",
       "Marketing Spend     0.7242         -0.0322           1.0000  0.7478\n",
       "Profit              0.9729          0.2007           0.7478  1.0000"
      ]
     },
     "execution_count": 7,
     "metadata": {},
     "output_type": "execute_result"
    }
   ],
   "source": [
    "# To create a correlation matrix to analyze the relationships between the \n",
    "# variables:\n",
    "startup_df.corr(numeric_only = True)"
   ]
  },
  {
   "cell_type": "markdown",
   "id": "866541ef",
   "metadata": {},
   "source": [
    "* Profit had a very high positive correlation with R&D Spend.\n",
    "* Profit had a high positive correlation with Marketing Spend."
   ]
  },
  {
   "cell_type": "code",
   "execution_count": 8,
   "id": "62051ed8",
   "metadata": {},
   "outputs": [
    {
     "data": {
      "image/png": "[encoded data removed]",
      "text/plain": [
       "<Figure size 600x300 with 1 Axes>"
      ]
     },
     "metadata": {},
     "output_type": "display_data"
    }
   ],
   "source": [
    "# To view the Total Profit of the startups by State:\n",
    "sum_by_state = startup_df.groupby('State').sum(numeric_only=True).reset_index()\n",
    "sum_by_state = sum_by_state.sort_values('Profit', ascending=True)\n",
    "\n",
    "plt.figure(figsize=(6, 3))\n",
    "sns.set(style=\"whitegrid\")\n",
    "ax = sns.barplot(x=\"State\", y=\"Profit\", data=sum_by_state, width=0.5)\n",
    "plt.title(\"Total Profit by State\", fontsize=14)\n",
    "plt.ylabel('Total Profit', fontsize=13)\n",
    "plt.xlabel('State', fontsize=13)\n",
    "# Add labels to the bars\n",
    "for p in ax.patches:\n",
    "    ax.annotate('${:,.2f}'.format(p.get_height()), \n",
    "                (p.get_x() + p.get_width() / 2., p.get_height()), \n",
    "                ha = 'center', va = 'center', \n",
    "                xytext = (0, 5), \n",
    "                textcoords = 'offset points', fontsize=11)\n",
    "# Format the y-axis with a comma and 2 decimal places\n",
    "fmt = '${x:,.0f}'\n",
    "tick = mtick.StrMethodFormatter(fmt)\n",
    "ax.yaxis.set_major_formatter(tick)\n",
    "plt.ylim(0, 2400000)\n",
    "plt.yticks(np.arange(0, 2400001, 400000))\n",
    "plt.show()"
   ]
  },
  {
   "cell_type": "markdown",
   "id": "f25afa09",
   "metadata": {},
   "source": [
    "As a group, the startup companies in New York had the highest Total Profit.<br><br>"
   ]
  },
  {
   "cell_type": "code",
   "execution_count": 9,
   "id": "8844c875",
   "metadata": {},
   "outputs": [
    {
     "data": {
      "text/html": [
       "<div>\n",
       "<style scoped>\n",
       "    .dataframe tbody tr th:only-of-type {\n",
       "        vertical-align: middle;\n",
       "    }\n",
       "\n",
       "    .dataframe tbody tr th {\n",
       "        vertical-align: top;\n",
       "    }\n",
       "\n",
       "    .dataframe thead th {\n",
       "        text-align: right;\n",
       "    }\n",
       "</style>\n",
       "<table border=\"1\" class=\"dataframe\">\n",
       "  <thead>\n",
       "    <tr style=\"text-align: right;\">\n",
       "      <th></th>\n",
       "      <th>R&amp;D Spend</th>\n",
       "      <th>Administration</th>\n",
       "      <th>Marketing Spend</th>\n",
       "      <th>Profit</th>\n",
       "    </tr>\n",
       "    <tr>\n",
       "      <th>State</th>\n",
       "      <th></th>\n",
       "      <th></th>\n",
       "      <th></th>\n",
       "      <th></th>\n",
       "    </tr>\n",
       "  </thead>\n",
       "  <tbody>\n",
       "    <tr>\n",
       "      <th>California</th>\n",
       "      <td>1,099,180.4600</td>\n",
       "      <td>2,052,690.6200</td>\n",
       "      <td>3,103,195.8000</td>\n",
       "      <td>1,766,387.9800</td>\n",
       "    </tr>\n",
       "    <tr>\n",
       "      <th>Florida</th>\n",
       "      <td>1,291,584.2600</td>\n",
       "      <td>1,948,302.3600</td>\n",
       "      <td>3,957,176.8200</td>\n",
       "      <td>1,900,384.3900</td>\n",
       "    </tr>\n",
       "    <tr>\n",
       "      <th>New York</th>\n",
       "      <td>1,295,316.0600</td>\n",
       "      <td>2,066,239.0000</td>\n",
       "      <td>3,490,882.2700</td>\n",
       "      <td>1,933,859.5900</td>\n",
       "    </tr>\n",
       "  </tbody>\n",
       "</table>\n",
       "</div>"
      ],
      "text/plain": [
       "                R&D Spend  Administration  Marketing Spend         Profit\n",
       "State                                                                    \n",
       "California 1,099,180.4600  2,052,690.6200   3,103,195.8000 1,766,387.9800\n",
       "Florida    1,291,584.2600  1,948,302.3600   3,957,176.8200 1,900,384.3900\n",
       "New York   1,295,316.0600  2,066,239.0000   3,490,882.2700 1,933,859.5900"
      ]
     },
     "execution_count": 9,
     "metadata": {},
     "output_type": "execute_result"
    }
   ],
   "source": [
    "# To group the data frame by State, and to find the sum of each column:\n",
    "sum_by_state = startup_df.groupby('State').sum(numeric_only=True)\n",
    "sum_by_state"
   ]
  },
  {
   "cell_type": "code",
   "execution_count": 10,
   "id": "5a068feb",
   "metadata": {},
   "outputs": [
    {
     "data": {
      "image/png": "[encoded data removed]",
      "text/plain": [
       "<Figure size 600x300 with 1 Axes>"
      ]
     },
     "metadata": {},
     "output_type": "display_data"
    }
   ],
   "source": [
    "# To group by State and to plot the sum of each column:\n",
    "sum_by_state = startup_df.groupby('State').sum(numeric_only=True).reset_index()\n",
    "\n",
    "plt.figure(figsize=(6,3))\n",
    "melted_df = pd.melt(sum_by_state, id_vars=['State'], var_name='Amount', value_name='Value')\n",
    "sns.barplot(x='State', y='Value', hue='Amount', data=melted_df)\n",
    "plt.title('Total Amount by State', fontsize=14)\n",
    "plt.ylabel('Total Amount', fontsize=13)\n",
    "plt.xlabel('State', fontsize=13)\n",
    "plt.gca().yaxis.set_major_formatter('${x:,.0f}')\n",
    "plt.legend(title='Amount', loc='upper left', bbox_to_anchor=(1.03, 1))\n",
    "plt.show()"
   ]
  },
  {
   "cell_type": "markdown",
   "id": "9c794c98",
   "metadata": {},
   "source": [
    "In each State, the highest expense for the startup companies was Marketing Spend.<br><br>"
   ]
  },
  {
   "cell_type": "code",
   "execution_count": 11,
   "id": "c7788515",
   "metadata": {},
   "outputs": [
    {
     "data": {
      "image/png": "[encoded data removed]",
      "text/plain": [
       "<Figure size 600x300 with 1 Axes>"
      ]
     },
     "metadata": {},
     "output_type": "display_data"
    }
   ],
   "source": [
    "# To view the Average Marketing Spend of the startups by State:\n",
    "mean_mkt_by_state = startup_df.groupby('State').mean(numeric_only=True).reset_index()\n",
    "mean_mkt_by_state = mean_mkt_by_state.sort_values('Marketing Spend', ascending=True)\n",
    "\n",
    "plt.figure(figsize=(6, 3))\n",
    "sns.set(style=\"whitegrid\")\n",
    "ax = sns.barplot(x=\"State\", y=\"Marketing Spend\", data=mean_mkt_by_state, width=0.5)\n",
    "plt.title(\"Average Marketing Spend by State\", fontsize=14)\n",
    "plt.ylabel('Average Marketing Spend', fontsize=13)\n",
    "plt.xlabel('State', fontsize=13)\n",
    "# Add labels to the bars\n",
    "for p in ax.patches:\n",
    "    ax.annotate('${:,.2f}'.format(p.get_height()), \n",
    "                (p.get_x() + p.get_width() / 2., p.get_height()), \n",
    "                ha = 'center', va = 'center', \n",
    "                xytext = (0, 5), \n",
    "                textcoords = 'offset points', fontsize=11)\n",
    "# Format the y-axis with a comma and 2 decimal places\n",
    "fmt = '${x:,.0f}'\n",
    "tick = mtick.StrMethodFormatter(fmt)\n",
    "ax.yaxis.set_major_formatter(tick)\n",
    "plt.ylim(0, 300000)\n",
    "plt.yticks(np.arange(0, 300001, 60000))\n",
    "plt.show()"
   ]
  },
  {
   "cell_type": "markdown",
   "id": "6efb3c0d",
   "metadata": {},
   "source": [
    "As a group, the startup companies in Florida had the highest Average Marketing Spend.<br><br>"
   ]
  },
  {
   "cell_type": "markdown",
   "id": "5bd3208e",
   "metadata": {},
   "source": [
    "# Machine Learning Models:"
   ]
  },
  {
   "cell_type": "code",
   "execution_count": 12,
   "id": "ecbfa806",
   "metadata": {},
   "outputs": [],
   "source": [
    "# To first create a copy of the original data frame:\n",
    "startup_df_c = startup_df.copy()"
   ]
  },
  {
   "cell_type": "code",
   "execution_count": 13,
   "id": "4fecb108",
   "metadata": {},
   "outputs": [],
   "source": [
    "# To separate the numeric columns:\n",
    "numeric_col_c = startup_df_c.select_dtypes(include=['int64', 'float64'])"
   ]
  },
  {
   "cell_type": "code",
   "execution_count": 14,
   "id": "8d5d54c9",
   "metadata": {},
   "outputs": [
    {
     "data": {
      "text/html": [
       "<div>\n",
       "<style scoped>\n",
       "    .dataframe tbody tr th:only-of-type {\n",
       "        vertical-align: middle;\n",
       "    }\n",
       "\n",
       "    .dataframe tbody tr th {\n",
       "        vertical-align: top;\n",
       "    }\n",
       "\n",
       "    .dataframe thead th {\n",
       "        text-align: right;\n",
       "    }\n",
       "</style>\n",
       "<table border=\"1\" class=\"dataframe\">\n",
       "  <thead>\n",
       "    <tr style=\"text-align: right;\">\n",
       "      <th></th>\n",
       "      <th>R&amp;D Spend</th>\n",
       "      <th>Administration</th>\n",
       "      <th>Marketing Spend</th>\n",
       "      <th>Profit</th>\n",
       "    </tr>\n",
       "  </thead>\n",
       "  <tbody>\n",
       "    <tr>\n",
       "      <th>0</th>\n",
       "      <td>165,349.2000</td>\n",
       "      <td>136,897.8000</td>\n",
       "      <td>471,784.1000</td>\n",
       "      <td>192,261.8300</td>\n",
       "    </tr>\n",
       "    <tr>\n",
       "      <th>1</th>\n",
       "      <td>162,597.7000</td>\n",
       "      <td>151,377.5900</td>\n",
       "      <td>443,898.5300</td>\n",
       "      <td>191,792.0600</td>\n",
       "    </tr>\n",
       "  </tbody>\n",
       "</table>\n",
       "</div>"
      ],
      "text/plain": [
       "     R&D Spend  Administration  Marketing Spend       Profit\n",
       "0 165,349.2000    136,897.8000     471,784.1000 192,261.8300\n",
       "1 162,597.7000    151,377.5900     443,898.5300 191,792.0600"
      ]
     },
     "execution_count": 14,
     "metadata": {},
     "output_type": "execute_result"
    }
   ],
   "source": [
    "# To view the numeric columns:\n",
    "numeric_col_c.head(2)"
   ]
  },
  {
   "cell_type": "code",
   "execution_count": 15,
   "id": "6d0b7d39",
   "metadata": {},
   "outputs": [],
   "source": [
    "# To separate the character columns:\n",
    "character_col_c = startup_df_c.select_dtypes(include=['object'])"
   ]
  },
  {
   "cell_type": "code",
   "execution_count": 16,
   "id": "00dab78c",
   "metadata": {},
   "outputs": [
    {
     "data": {
      "text/html": [
       "<div>\n",
       "<style scoped>\n",
       "    .dataframe tbody tr th:only-of-type {\n",
       "        vertical-align: middle;\n",
       "    }\n",
       "\n",
       "    .dataframe tbody tr th {\n",
       "        vertical-align: top;\n",
       "    }\n",
       "\n",
       "    .dataframe thead th {\n",
       "        text-align: right;\n",
       "    }\n",
       "</style>\n",
       "<table border=\"1\" class=\"dataframe\">\n",
       "  <thead>\n",
       "    <tr style=\"text-align: right;\">\n",
       "      <th></th>\n",
       "      <th>State</th>\n",
       "    </tr>\n",
       "  </thead>\n",
       "  <tbody>\n",
       "    <tr>\n",
       "      <th>0</th>\n",
       "      <td>New York</td>\n",
       "    </tr>\n",
       "    <tr>\n",
       "      <th>1</th>\n",
       "      <td>California</td>\n",
       "    </tr>\n",
       "    <tr>\n",
       "      <th>2</th>\n",
       "      <td>Florida</td>\n",
       "    </tr>\n",
       "    <tr>\n",
       "      <th>3</th>\n",
       "      <td>New York</td>\n",
       "    </tr>\n",
       "  </tbody>\n",
       "</table>\n",
       "</div>"
      ],
      "text/plain": [
       "        State\n",
       "0    New York\n",
       "1  California\n",
       "2     Florida\n",
       "3    New York"
      ]
     },
     "execution_count": 16,
     "metadata": {},
     "output_type": "execute_result"
    }
   ],
   "source": [
    "# To view the character columns of the original data frame:\n",
    "character_col_c.head(4)"
   ]
  },
  {
   "cell_type": "code",
   "execution_count": 17,
   "id": "f314fed6",
   "metadata": {},
   "outputs": [
    {
     "data": {
      "text/html": [
       "<div>\n",
       "<style scoped>\n",
       "    .dataframe tbody tr th:only-of-type {\n",
       "        vertical-align: middle;\n",
       "    }\n",
       "\n",
       "    .dataframe tbody tr th {\n",
       "        vertical-align: top;\n",
       "    }\n",
       "\n",
       "    .dataframe thead th {\n",
       "        text-align: right;\n",
       "    }\n",
       "</style>\n",
       "<table border=\"1\" class=\"dataframe\">\n",
       "  <thead>\n",
       "    <tr style=\"text-align: right;\">\n",
       "      <th></th>\n",
       "      <th>State_Florida</th>\n",
       "      <th>State_New York</th>\n",
       "    </tr>\n",
       "  </thead>\n",
       "  <tbody>\n",
       "    <tr>\n",
       "      <th>0</th>\n",
       "      <td>0</td>\n",
       "      <td>1</td>\n",
       "    </tr>\n",
       "    <tr>\n",
       "      <th>1</th>\n",
       "      <td>0</td>\n",
       "      <td>0</td>\n",
       "    </tr>\n",
       "    <tr>\n",
       "      <th>2</th>\n",
       "      <td>1</td>\n",
       "      <td>0</td>\n",
       "    </tr>\n",
       "  </tbody>\n",
       "</table>\n",
       "</div>"
      ],
      "text/plain": [
       "   State_Florida  State_New York\n",
       "0              0               1\n",
       "1              0               0\n",
       "2              1               0"
      ]
     },
     "execution_count": 17,
     "metadata": {},
     "output_type": "execute_result"
    }
   ],
   "source": [
    "# To encode the character columns:\n",
    "encoded_df = pd.get_dummies(character_col_c, drop_first=True)\n",
    "encoded_df.head(3)"
   ]
  },
  {
   "cell_type": "code",
   "execution_count": 18,
   "id": "53164a08",
   "metadata": {},
   "outputs": [
    {
     "data": {
      "text/html": [
       "<div>\n",
       "<style scoped>\n",
       "    .dataframe tbody tr th:only-of-type {\n",
       "        vertical-align: middle;\n",
       "    }\n",
       "\n",
       "    .dataframe tbody tr th {\n",
       "        vertical-align: top;\n",
       "    }\n",
       "\n",
       "    .dataframe thead th {\n",
       "        text-align: right;\n",
       "    }\n",
       "</style>\n",
       "<table border=\"1\" class=\"dataframe\">\n",
       "  <thead>\n",
       "    <tr style=\"text-align: right;\">\n",
       "      <th></th>\n",
       "      <th>R&amp;D Spend</th>\n",
       "      <th>Administration</th>\n",
       "      <th>Marketing Spend</th>\n",
       "      <th>Profit</th>\n",
       "    </tr>\n",
       "  </thead>\n",
       "  <tbody>\n",
       "    <tr>\n",
       "      <th>0</th>\n",
       "      <td>165,349.2000</td>\n",
       "      <td>136,897.8000</td>\n",
       "      <td>471,784.1000</td>\n",
       "      <td>192,261.8300</td>\n",
       "    </tr>\n",
       "    <tr>\n",
       "      <th>1</th>\n",
       "      <td>162,597.7000</td>\n",
       "      <td>151,377.5900</td>\n",
       "      <td>443,898.5300</td>\n",
       "      <td>191,792.0600</td>\n",
       "    </tr>\n",
       "    <tr>\n",
       "      <th>2</th>\n",
       "      <td>153,441.5100</td>\n",
       "      <td>101,145.5500</td>\n",
       "      <td>407,934.5400</td>\n",
       "      <td>191,050.3900</td>\n",
       "    </tr>\n",
       "  </tbody>\n",
       "</table>\n",
       "</div>"
      ],
      "text/plain": [
       "     R&D Spend  Administration  Marketing Spend       Profit\n",
       "0 165,349.2000    136,897.8000     471,784.1000 192,261.8300\n",
       "1 162,597.7000    151,377.5900     443,898.5300 191,792.0600\n",
       "2 153,441.5100    101,145.5500     407,934.5400 191,050.3900"
      ]
     },
     "execution_count": 18,
     "metadata": {},
     "output_type": "execute_result"
    }
   ],
   "source": [
    "# To drop the original character columns from the original data frame:\n",
    "startup_df_c = startup_df_c.drop(character_col_c.columns, axis=1)\n",
    "startup_df_c.head(3)"
   ]
  },
  {
   "cell_type": "markdown",
   "id": "f831fed6",
   "metadata": {},
   "source": [
    "The State column was dropped in the above data frame."
   ]
  },
  {
   "cell_type": "code",
   "execution_count": 19,
   "id": "974e063a",
   "metadata": {},
   "outputs": [
    {
     "data": {
      "text/html": [
       "<div>\n",
       "<style scoped>\n",
       "    .dataframe tbody tr th:only-of-type {\n",
       "        vertical-align: middle;\n",
       "    }\n",
       "\n",
       "    .dataframe tbody tr th {\n",
       "        vertical-align: top;\n",
       "    }\n",
       "\n",
       "    .dataframe thead th {\n",
       "        text-align: right;\n",
       "    }\n",
       "</style>\n",
       "<table border=\"1\" class=\"dataframe\">\n",
       "  <thead>\n",
       "    <tr style=\"text-align: right;\">\n",
       "      <th></th>\n",
       "      <th>R&amp;D Spend</th>\n",
       "      <th>Administration</th>\n",
       "      <th>Marketing Spend</th>\n",
       "      <th>Profit</th>\n",
       "      <th>State_Florida</th>\n",
       "      <th>State_New York</th>\n",
       "    </tr>\n",
       "  </thead>\n",
       "  <tbody>\n",
       "    <tr>\n",
       "      <th>0</th>\n",
       "      <td>165,349.2000</td>\n",
       "      <td>136,897.8000</td>\n",
       "      <td>471,784.1000</td>\n",
       "      <td>192,261.8300</td>\n",
       "      <td>0</td>\n",
       "      <td>1</td>\n",
       "    </tr>\n",
       "    <tr>\n",
       "      <th>1</th>\n",
       "      <td>162,597.7000</td>\n",
       "      <td>151,377.5900</td>\n",
       "      <td>443,898.5300</td>\n",
       "      <td>191,792.0600</td>\n",
       "      <td>0</td>\n",
       "      <td>0</td>\n",
       "    </tr>\n",
       "    <tr>\n",
       "      <th>2</th>\n",
       "      <td>153,441.5100</td>\n",
       "      <td>101,145.5500</td>\n",
       "      <td>407,934.5400</td>\n",
       "      <td>191,050.3900</td>\n",
       "      <td>1</td>\n",
       "      <td>0</td>\n",
       "    </tr>\n",
       "  </tbody>\n",
       "</table>\n",
       "</div>"
      ],
      "text/plain": [
       "     R&D Spend  Administration  Marketing Spend       Profit  State_Florida  \\\n",
       "0 165,349.2000    136,897.8000     471,784.1000 192,261.8300              0   \n",
       "1 162,597.7000    151,377.5900     443,898.5300 191,792.0600              0   \n",
       "2 153,441.5100    101,145.5500     407,934.5400 191,050.3900              1   \n",
       "\n",
       "   State_New York  \n",
       "0               1  \n",
       "1               0  \n",
       "2               0  "
      ]
     },
     "execution_count": 19,
     "metadata": {},
     "output_type": "execute_result"
    }
   ],
   "source": [
    "# To concatenate the encoded columns with the original data frame:\n",
    "startup_df_c = pd.concat([startup_df_c, encoded_df], axis=1)\n",
    "startup_df_c.head(3)"
   ]
  },
  {
   "cell_type": "code",
   "execution_count": 20,
   "id": "83722a1c",
   "metadata": {},
   "outputs": [],
   "source": [
    "# To store the features in X:\n",
    "X = startup_df_c.drop(['Profit'], axis=1)"
   ]
  },
  {
   "cell_type": "code",
   "execution_count": 21,
   "id": "744b8660",
   "metadata": {},
   "outputs": [
    {
     "data": {
      "text/html": [
       "<div>\n",
       "<style scoped>\n",
       "    .dataframe tbody tr th:only-of-type {\n",
       "        vertical-align: middle;\n",
       "    }\n",
       "\n",
       "    .dataframe tbody tr th {\n",
       "        vertical-align: top;\n",
       "    }\n",
       "\n",
       "    .dataframe thead th {\n",
       "        text-align: right;\n",
       "    }\n",
       "</style>\n",
       "<table border=\"1\" class=\"dataframe\">\n",
       "  <thead>\n",
       "    <tr style=\"text-align: right;\">\n",
       "      <th></th>\n",
       "      <th>R&amp;D Spend</th>\n",
       "      <th>Administration</th>\n",
       "      <th>Marketing Spend</th>\n",
       "      <th>State_Florida</th>\n",
       "      <th>State_New York</th>\n",
       "    </tr>\n",
       "  </thead>\n",
       "  <tbody>\n",
       "    <tr>\n",
       "      <th>0</th>\n",
       "      <td>165,349.2000</td>\n",
       "      <td>136,897.8000</td>\n",
       "      <td>471,784.1000</td>\n",
       "      <td>0</td>\n",
       "      <td>1</td>\n",
       "    </tr>\n",
       "    <tr>\n",
       "      <th>1</th>\n",
       "      <td>162,597.7000</td>\n",
       "      <td>151,377.5900</td>\n",
       "      <td>443,898.5300</td>\n",
       "      <td>0</td>\n",
       "      <td>0</td>\n",
       "    </tr>\n",
       "    <tr>\n",
       "      <th>2</th>\n",
       "      <td>153,441.5100</td>\n",
       "      <td>101,145.5500</td>\n",
       "      <td>407,934.5400</td>\n",
       "      <td>1</td>\n",
       "      <td>0</td>\n",
       "    </tr>\n",
       "  </tbody>\n",
       "</table>\n",
       "</div>"
      ],
      "text/plain": [
       "     R&D Spend  Administration  Marketing Spend  State_Florida  State_New York\n",
       "0 165,349.2000    136,897.8000     471,784.1000              0               1\n",
       "1 162,597.7000    151,377.5900     443,898.5300              0               0\n",
       "2 153,441.5100    101,145.5500     407,934.5400              1               0"
      ]
     },
     "execution_count": 21,
     "metadata": {},
     "output_type": "execute_result"
    }
   ],
   "source": [
    "# To view X:\n",
    "X.head(3)"
   ]
  },
  {
   "cell_type": "code",
   "execution_count": 22,
   "id": "786dba62",
   "metadata": {},
   "outputs": [],
   "source": [
    "# To store the target variable in y:\n",
    "y = startup_df_c['Profit']"
   ]
  },
  {
   "cell_type": "code",
   "execution_count": 23,
   "id": "783def0b",
   "metadata": {},
   "outputs": [
    {
     "data": {
      "text/plain": [
       "0   192,261.8300\n",
       "1   191,792.0600\n",
       "2   191,050.3900\n",
       "Name: Profit, dtype: float64"
      ]
     },
     "execution_count": 23,
     "metadata": {},
     "output_type": "execute_result"
    }
   ],
   "source": [
    "# To view y:\n",
    "y.head(3)"
   ]
  },
  {
   "cell_type": "code",
   "execution_count": 24,
   "id": "7547bd2c",
   "metadata": {},
   "outputs": [],
   "source": [
    "# To split the data into a training set and a testing set:\n",
    "X_train, X_test, y_train, y_test = train_test_split(X, y, test_size=0.2,\n",
    "                                                                random_state=42)"
   ]
  },
  {
   "cell_type": "code",
   "execution_count": 25,
   "id": "ddf4ece6",
   "metadata": {},
   "outputs": [
    {
     "name": "stdout",
     "output_type": "stream",
     "text": [
      "(40, 5)\n",
      "(10, 5)\n",
      "(40,)\n",
      "(10,)\n"
     ]
    }
   ],
   "source": [
    "# To view the shape of the training and testing sets:\n",
    "print(X_train.shape)\n",
    "print(X_test.shape)\n",
    "print(y_train.shape)\n",
    "print(y_test.shape)"
   ]
  },
  {
   "cell_type": "code",
   "execution_count": 26,
   "id": "aacd5ad4",
   "metadata": {},
   "outputs": [
    {
     "data": {
      "text/html": [
       "<div>\n",
       "<style scoped>\n",
       "    .dataframe tbody tr th:only-of-type {\n",
       "        vertical-align: middle;\n",
       "    }\n",
       "\n",
       "    .dataframe tbody tr th {\n",
       "        vertical-align: top;\n",
       "    }\n",
       "\n",
       "    .dataframe thead th {\n",
       "        text-align: right;\n",
       "    }\n",
       "</style>\n",
       "<table border=\"1\" class=\"dataframe\">\n",
       "  <thead>\n",
       "    <tr style=\"text-align: right;\">\n",
       "      <th></th>\n",
       "      <th>R&amp;D Spend</th>\n",
       "      <th>Administration</th>\n",
       "      <th>Marketing Spend</th>\n",
       "      <th>State_Florida</th>\n",
       "      <th>State_New York</th>\n",
       "    </tr>\n",
       "  </thead>\n",
       "  <tbody>\n",
       "    <tr>\n",
       "      <th>12</th>\n",
       "      <td>93,863.7500</td>\n",
       "      <td>127,320.3800</td>\n",
       "      <td>249,839.4400</td>\n",
       "      <td>1</td>\n",
       "      <td>0</td>\n",
       "    </tr>\n",
       "    <tr>\n",
       "      <th>4</th>\n",
       "      <td>142,107.3400</td>\n",
       "      <td>91,391.7700</td>\n",
       "      <td>366,168.4200</td>\n",
       "      <td>1</td>\n",
       "      <td>0</td>\n",
       "    </tr>\n",
       "    <tr>\n",
       "      <th>37</th>\n",
       "      <td>44,069.9500</td>\n",
       "      <td>51,283.1400</td>\n",
       "      <td>197,029.4200</td>\n",
       "      <td>0</td>\n",
       "      <td>0</td>\n",
       "    </tr>\n",
       "  </tbody>\n",
       "</table>\n",
       "</div>"
      ],
      "text/plain": [
       "      R&D Spend  Administration  Marketing Spend  State_Florida  \\\n",
       "12  93,863.7500    127,320.3800     249,839.4400              1   \n",
       "4  142,107.3400     91,391.7700     366,168.4200              1   \n",
       "37  44,069.9500     51,283.1400     197,029.4200              0   \n",
       "\n",
       "    State_New York  \n",
       "12               0  \n",
       "4                0  \n",
       "37               0  "
      ]
     },
     "execution_count": 26,
     "metadata": {},
     "output_type": "execute_result"
    }
   ],
   "source": [
    "# To view X_train:\n",
    "X_train.head(3)"
   ]
  },
  {
   "cell_type": "code",
   "execution_count": 27,
   "id": "4b8396e1",
   "metadata": {},
   "outputs": [
    {
     "data": {
      "text/plain": [
       "12   141,585.5200\n",
       "4    166,187.9400\n",
       "37    89,949.1400\n",
       "Name: Profit, dtype: float64"
      ]
     },
     "execution_count": 27,
     "metadata": {},
     "output_type": "execute_result"
    }
   ],
   "source": [
    "# To view y_train:\n",
    "y_train.head(3)"
   ]
  },
  {
   "cell_type": "code",
   "execution_count": 28,
   "id": "3f05d29d",
   "metadata": {},
   "outputs": [
    {
     "data": {
      "text/html": [
       "<div>\n",
       "<style scoped>\n",
       "    .dataframe tbody tr th:only-of-type {\n",
       "        vertical-align: middle;\n",
       "    }\n",
       "\n",
       "    .dataframe tbody tr th {\n",
       "        vertical-align: top;\n",
       "    }\n",
       "\n",
       "    .dataframe thead th {\n",
       "        text-align: right;\n",
       "    }\n",
       "</style>\n",
       "<table border=\"1\" class=\"dataframe\">\n",
       "  <thead>\n",
       "    <tr style=\"text-align: right;\">\n",
       "      <th></th>\n",
       "      <th>R&amp;D Spend</th>\n",
       "      <th>Administration</th>\n",
       "      <th>Marketing Spend</th>\n",
       "      <th>State_Florida</th>\n",
       "      <th>State_New York</th>\n",
       "    </tr>\n",
       "  </thead>\n",
       "  <tbody>\n",
       "    <tr>\n",
       "      <th>13</th>\n",
       "      <td>91,992.3900</td>\n",
       "      <td>135,495.0700</td>\n",
       "      <td>252,664.9300</td>\n",
       "      <td>0</td>\n",
       "      <td>0</td>\n",
       "    </tr>\n",
       "    <tr>\n",
       "      <th>39</th>\n",
       "      <td>38,558.5100</td>\n",
       "      <td>82,982.0900</td>\n",
       "      <td>174,999.3000</td>\n",
       "      <td>0</td>\n",
       "      <td>0</td>\n",
       "    </tr>\n",
       "    <tr>\n",
       "      <th>30</th>\n",
       "      <td>61,994.4800</td>\n",
       "      <td>115,641.2800</td>\n",
       "      <td>91,131.2400</td>\n",
       "      <td>1</td>\n",
       "      <td>0</td>\n",
       "    </tr>\n",
       "  </tbody>\n",
       "</table>\n",
       "</div>"
      ],
      "text/plain": [
       "     R&D Spend  Administration  Marketing Spend  State_Florida  State_New York\n",
       "13 91,992.3900    135,495.0700     252,664.9300              0               0\n",
       "39 38,558.5100     82,982.0900     174,999.3000              0               0\n",
       "30 61,994.4800    115,641.2800      91,131.2400              1               0"
      ]
     },
     "execution_count": 28,
     "metadata": {},
     "output_type": "execute_result"
    }
   ],
   "source": [
    "# To view X_test:\n",
    "X_test.head(3)"
   ]
  },
  {
   "cell_type": "code",
   "execution_count": 29,
   "id": "645d7eb0",
   "metadata": {},
   "outputs": [
    {
     "data": {
      "text/plain": [
       "13   134,307.3500\n",
       "39    81,005.7600\n",
       "30    99,937.5900\n",
       "Name: Profit, dtype: float64"
      ]
     },
     "execution_count": 29,
     "metadata": {},
     "output_type": "execute_result"
    }
   ],
   "source": [
    "# To view y_test:\n",
    "y_test.head(3)"
   ]
  },
  {
   "cell_type": "markdown",
   "id": "716a584e",
   "metadata": {},
   "source": [
    "## XGBoost Regression Model:"
   ]
  },
  {
   "cell_type": "code",
   "execution_count": 30,
   "id": "d4e01633",
   "metadata": {},
   "outputs": [
    {
     "name": "stdout",
     "output_type": "stream",
     "text": [
      "[129076.01   88200.664  91578.57   55052.473 136403.81   28230.227\n",
      " 118613.55  103795.81   98273.44  122729.2  ]\n"
     ]
    }
   ],
   "source": [
    "# To build an XGBoost Regression Model:\n",
    "xgb_model = XGBRegressor(random_state=42)\n",
    "xgb_model.fit(X_train, y_train)\n",
    "\n",
    "# To predict the testing set y using the XGBoost Regression Model:\n",
    "y_pred = xgb_model.predict(X_test)\n",
    "print(y_pred)"
   ]
  },
  {
   "cell_type": "code",
   "execution_count": 31,
   "id": "ded13ae9",
   "metadata": {},
   "outputs": [
    {
     "data": {
      "text/html": [
       "<div>\n",
       "<style scoped>\n",
       "    .dataframe tbody tr th:only-of-type {\n",
       "        vertical-align: middle;\n",
       "    }\n",
       "\n",
       "    .dataframe tbody tr th {\n",
       "        vertical-align: top;\n",
       "    }\n",
       "\n",
       "    .dataframe thead th {\n",
       "        text-align: right;\n",
       "    }\n",
       "</style>\n",
       "<table border=\"1\" class=\"dataframe\">\n",
       "  <thead>\n",
       "    <tr style=\"text-align: right;\">\n",
       "      <th></th>\n",
       "      <th>Predicted Value</th>\n",
       "      <th>Actual Value</th>\n",
       "    </tr>\n",
       "  </thead>\n",
       "  <tbody>\n",
       "    <tr>\n",
       "      <th>13</th>\n",
       "      <td>129,076.0078</td>\n",
       "      <td>134,307.3500</td>\n",
       "    </tr>\n",
       "    <tr>\n",
       "      <th>39</th>\n",
       "      <td>88,200.6641</td>\n",
       "      <td>81,005.7600</td>\n",
       "    </tr>\n",
       "    <tr>\n",
       "      <th>30</th>\n",
       "      <td>91,578.5703</td>\n",
       "      <td>99,937.5900</td>\n",
       "    </tr>\n",
       "  </tbody>\n",
       "</table>\n",
       "</div>"
      ],
      "text/plain": [
       "    Predicted Value  Actual Value\n",
       "13     129,076.0078  134,307.3500\n",
       "39      88,200.6641   81,005.7600\n",
       "30      91,578.5703   99,937.5900"
      ]
     },
     "execution_count": 31,
     "metadata": {},
     "output_type": "execute_result"
    }
   ],
   "source": [
    "# To view the above result as a data frame:\n",
    "compare = pd.DataFrame(data={'Predicted Value':y_pred, 'Actual Value':y_test})\n",
    "compare.head(3)"
   ]
  },
  {
   "cell_type": "code",
   "execution_count": 32,
   "id": "af6ea43a",
   "metadata": {},
   "outputs": [
    {
     "data": {
      "text/html": [
       "<style type=\"text/css\">\n",
       "</style>\n",
       "<table id=\"T_9b46e\">\n",
       "  <thead>\n",
       "    <tr>\n",
       "      <th class=\"blank level0\" >&nbsp;</th>\n",
       "      <th id=\"T_9b46e_level0_col0\" class=\"col_heading level0 col0\" >XGBoost Regression Metrics</th>\n",
       "    </tr>\n",
       "  </thead>\n",
       "  <tbody>\n",
       "    <tr>\n",
       "      <th id=\"T_9b46e_level0_row0\" class=\"row_heading level0 row0\" >Mean Absolute Error</th>\n",
       "      <td id=\"T_9b46e_row0_col0\" class=\"data row0 col0\" >6,651.72880</td>\n",
       "    </tr>\n",
       "    <tr>\n",
       "      <th id=\"T_9b46e_level0_row1\" class=\"row_heading level0 row1\" >Mean Squared Error</th>\n",
       "      <td id=\"T_9b46e_row1_col0\" class=\"data row1 col0\" >60,326,610.48790</td>\n",
       "    </tr>\n",
       "    <tr>\n",
       "      <th id=\"T_9b46e_level0_row2\" class=\"row_heading level0 row2\" >Root Mean Squared Error</th>\n",
       "      <td id=\"T_9b46e_row2_col0\" class=\"data row2 col0\" >7,767.02070</td>\n",
       "    </tr>\n",
       "    <tr>\n",
       "      <th id=\"T_9b46e_level0_row3\" class=\"row_heading level0 row3\" >R2 Score</th>\n",
       "      <td id=\"T_9b46e_row3_col0\" class=\"data row3 col0\" >0.92550</td>\n",
       "    </tr>\n",
       "    <tr>\n",
       "      <th id=\"T_9b46e_level0_row4\" class=\"row_heading level0 row4\" >Adjusted R2 Score</th>\n",
       "      <td id=\"T_9b46e_row4_col0\" class=\"data row4 col0\" >0.83238</td>\n",
       "    </tr>\n",
       "  </tbody>\n",
       "</table>\n"
      ],
      "text/plain": [
       "<pandas.io.formats.style.Styler at 0x2062d6333d0>"
      ]
     },
     "execution_count": 32,
     "metadata": {},
     "output_type": "execute_result"
    }
   ],
   "source": [
    "# To view metrics for the XGBoost Regression Model:\n",
    "mae_xgb = mean_absolute_error(y_test, y_pred)\n",
    "mse_xgb = mean_squared_error(y_test, y_pred)\n",
    "rmse_xgb = np.sqrt(mean_squared_error(y_test, y_pred))\n",
    "r2_xgb = r2_score(y_test, y_pred)\n",
    "# To calculate the adjusted r-squared for the testing set\n",
    "n = X_test.shape[0]\n",
    "p = X_test.shape[1]\n",
    "r2 = r2_score(y_test, y_pred)\n",
    "adj_r2_xgb = 1 - ((1 - r2) * (n - 1)) / (n - p - 1)\n",
    "\n",
    "df = pd.DataFrame({'Mean Absolute Error': [mae_xgb], 'Mean Squared Error': [mse_xgb], \n",
    "                   'Root Mean Squared Error': [rmse_xgb], 'R2 Score': [r2_xgb],\n",
    "                  'Adjusted R2 Score': [adj_r2_xgb]})\n",
    "# To present the metrics as a data frame\n",
    "df.transpose().rename(columns={0: \"XGBoost Regression Metrics\"}).style.format(\"{:,.5f}\")"
   ]
  },
  {
   "cell_type": "markdown",
   "id": "215b2ce9",
   "metadata": {},
   "source": [
    "### To Create a Feature Importance Plot:"
   ]
  },
  {
   "cell_type": "code",
   "execution_count": 33,
   "id": "719382d4",
   "metadata": {},
   "outputs": [
    {
     "data": {
      "image/png": "[encoded data removed]",
      "text/plain": [
       "<Figure size 600x300 with 1 Axes>"
      ]
     },
     "metadata": {},
     "output_type": "display_data"
    }
   ],
   "source": [
    "# To create a Feature Importance Plot for the XGBoost Regression Model:\n",
    "feature_importance = xgb_model.feature_importances_\n",
    "feature_names = X_train.columns\n",
    "# Create a data frame with feature names and importances\n",
    "data = {'feature_names': feature_names, 'feature_importance': feature_importance}\n",
    "fi_df = pd.DataFrame(data)\n",
    "# Sort the data frame in decreasing order of feature importance\n",
    "fi_df.sort_values(by='feature_importance', ascending=False, inplace=True)\n",
    "# Plot the feature importance using seaborn\n",
    "plt.figure(figsize=(6, 3))\n",
    "sns.set(style=\"whitegrid\")\n",
    "sns.barplot(x='feature_importance', y='feature_names', data=fi_df)\n",
    "plt.title('Feature Importance')\n",
    "plt.xlabel('Importance')\n",
    "plt.ylabel('Features')\n",
    "# Add labels to the bars\n",
    "for i, v in enumerate(fi_df['feature_importance']):\n",
    "    plt.text(v + 0.01, i + .25, str(round(v, 3)), fontweight='bold')\n",
    "plt.xlim([0, 1.12])\n",
    "plt.show()"
   ]
  },
  {
   "cell_type": "markdown",
   "id": "1ccc6203",
   "metadata": {},
   "source": [
    "R&D Spend and Marketing Spend were the two most important features in the XGBoost model."
   ]
  },
  {
   "cell_type": "markdown",
   "id": "e0090c8e",
   "metadata": {},
   "source": [
    "## Multiple Linear Regression Model:"
   ]
  },
  {
   "cell_type": "code",
   "execution_count": 34,
   "id": "85bebbe0",
   "metadata": {},
   "outputs": [
    {
     "name": "stdout",
     "output_type": "stream",
     "text": [
      "[126362.87908255  84608.45383634  99677.49425147  46357.46068582\n",
      " 128750.48288504  50912.4174188  109741.35032702 100643.24281647\n",
      "  97599.27574594 113097.42524432]\n"
     ]
    }
   ],
   "source": [
    "# To build a Multiple Linear Regression Model:\n",
    "lr_model = LinearRegression()\n",
    "lr_model.fit(X_train, y_train)\n",
    "\n",
    "# To predict the testing set y using the Multiple Linear Regression Model:\n",
    "y_pred = lr_model.predict(X_test)\n",
    "print(y_pred)"
   ]
  },
  {
   "cell_type": "code",
   "execution_count": 35,
   "id": "e51b96d2",
   "metadata": {},
   "outputs": [
    {
     "data": {
      "text/html": [
       "<div>\n",
       "<style scoped>\n",
       "    .dataframe tbody tr th:only-of-type {\n",
       "        vertical-align: middle;\n",
       "    }\n",
       "\n",
       "    .dataframe tbody tr th {\n",
       "        vertical-align: top;\n",
       "    }\n",
       "\n",
       "    .dataframe thead th {\n",
       "        text-align: right;\n",
       "    }\n",
       "</style>\n",
       "<table border=\"1\" class=\"dataframe\">\n",
       "  <thead>\n",
       "    <tr style=\"text-align: right;\">\n",
       "      <th></th>\n",
       "      <th>Predicted Value</th>\n",
       "      <th>Actual Value</th>\n",
       "    </tr>\n",
       "  </thead>\n",
       "  <tbody>\n",
       "    <tr>\n",
       "      <th>13</th>\n",
       "      <td>126,362.8791</td>\n",
       "      <td>134,307.3500</td>\n",
       "    </tr>\n",
       "    <tr>\n",
       "      <th>39</th>\n",
       "      <td>84,608.4538</td>\n",
       "      <td>81,005.7600</td>\n",
       "    </tr>\n",
       "    <tr>\n",
       "      <th>30</th>\n",
       "      <td>99,677.4943</td>\n",
       "      <td>99,937.5900</td>\n",
       "    </tr>\n",
       "  </tbody>\n",
       "</table>\n",
       "</div>"
      ],
      "text/plain": [
       "    Predicted Value  Actual Value\n",
       "13     126,362.8791  134,307.3500\n",
       "39      84,608.4538   81,005.7600\n",
       "30      99,677.4943   99,937.5900"
      ]
     },
     "execution_count": 35,
     "metadata": {},
     "output_type": "execute_result"
    }
   ],
   "source": [
    "# To view the above result as a data frame:\n",
    "compare = pd.DataFrame(data={'Predicted Value':y_pred, 'Actual Value':y_test})\n",
    "compare.head(3)"
   ]
  },
  {
   "cell_type": "code",
   "execution_count": 36,
   "id": "6a923f4c",
   "metadata": {},
   "outputs": [
    {
     "data": {
      "text/html": [
       "<style type=\"text/css\">\n",
       "</style>\n",
       "<table id=\"T_d1fe8\">\n",
       "  <thead>\n",
       "    <tr>\n",
       "      <th class=\"blank level0\" >&nbsp;</th>\n",
       "      <th id=\"T_d1fe8_level0_col0\" class=\"col_heading level0 col0\" >Multiple Linear Regression Metrics</th>\n",
       "    </tr>\n",
       "  </thead>\n",
       "  <tbody>\n",
       "    <tr>\n",
       "      <th id=\"T_d1fe8_level0_row0\" class=\"row_heading level0 row0\" >Mean Absolute Error</th>\n",
       "      <td id=\"T_d1fe8_row0_col0\" class=\"data row0 col0\" >6,961.47781</td>\n",
       "    </tr>\n",
       "    <tr>\n",
       "      <th id=\"T_d1fe8_level0_row1\" class=\"row_heading level0 row1\" >Mean Squared Error</th>\n",
       "      <td id=\"T_d1fe8_row1_col0\" class=\"data row1 col0\" >82,010,363.04430</td>\n",
       "    </tr>\n",
       "    <tr>\n",
       "      <th id=\"T_d1fe8_level0_row2\" class=\"row_heading level0 row2\" >Root Mean Squared Error</th>\n",
       "      <td id=\"T_d1fe8_row2_col0\" class=\"data row2 col0\" >9,055.95732</td>\n",
       "    </tr>\n",
       "    <tr>\n",
       "      <th id=\"T_d1fe8_level0_row3\" class=\"row_heading level0 row3\" >R2 Score</th>\n",
       "      <td id=\"T_d1fe8_row3_col0\" class=\"data row3 col0\" >0.89873</td>\n",
       "    </tr>\n",
       "    <tr>\n",
       "      <th id=\"T_d1fe8_level0_row4\" class=\"row_heading level0 row4\" >Adjusted R2 Score</th>\n",
       "      <td id=\"T_d1fe8_row4_col0\" class=\"data row4 col0\" >0.77213</td>\n",
       "    </tr>\n",
       "  </tbody>\n",
       "</table>\n"
      ],
      "text/plain": [
       "<pandas.io.formats.style.Styler at 0x2062d631d20>"
      ]
     },
     "execution_count": 36,
     "metadata": {},
     "output_type": "execute_result"
    }
   ],
   "source": [
    "# To view metrics for the Multiple Linear Regression Model:\n",
    "mae_lr = mean_absolute_error(y_test, y_pred)\n",
    "mse_lr = mean_squared_error(y_test, y_pred)\n",
    "rmse_lr = np.sqrt(mean_squared_error(y_test, y_pred))\n",
    "r2_lr = r2_score(y_test, y_pred)\n",
    "# To calculate the adjusted r-squared for the testing set\n",
    "n = X_test.shape[0]\n",
    "p = X_test.shape[1]\n",
    "r2 = r2_score(y_test, y_pred)\n",
    "adj_r2_lr = 1 - ((1 - r2) * (n - 1)) / (n - p - 1)\n",
    "\n",
    "df = pd.DataFrame({'Mean Absolute Error': [mae_lr], 'Mean Squared Error': [mse_lr], \n",
    "                   'Root Mean Squared Error': [rmse_lr], 'R2 Score': [r2_lr],\n",
    "                  'Adjusted R2 Score': [adj_r2_lr]})\n",
    "# To present the metrics as a data frame\n",
    "df.transpose().rename(columns={0: \"Multiple Linear Regression Metrics\"}).style.format(\"{:,.5f}\")"
   ]
  },
  {
   "cell_type": "code",
   "execution_count": 37,
   "id": "0ce4662b",
   "metadata": {},
   "outputs": [
    {
     "name": "stdout",
     "output_type": "stream",
     "text": [
      "Intercept: 54028.03959364584\n"
     ]
    }
   ],
   "source": [
    "# To view the intercept of the model:\n",
    "intercept = lr_model.intercept_\n",
    "print(\"Intercept:\", intercept)"
   ]
  },
  {
   "cell_type": "code",
   "execution_count": 38,
   "id": "f263616b",
   "metadata": {},
   "outputs": [
    {
     "data": {
      "text/html": [
       "<div>\n",
       "<style scoped>\n",
       "    .dataframe tbody tr th:only-of-type {\n",
       "        vertical-align: middle;\n",
       "    }\n",
       "\n",
       "    .dataframe tbody tr th {\n",
       "        vertical-align: top;\n",
       "    }\n",
       "\n",
       "    .dataframe thead th {\n",
       "        text-align: right;\n",
       "    }\n",
       "</style>\n",
       "<table border=\"1\" class=\"dataframe\">\n",
       "  <thead>\n",
       "    <tr style=\"text-align: right;\">\n",
       "      <th></th>\n",
       "      <th>Feature</th>\n",
       "      <th>Coefficient</th>\n",
       "    </tr>\n",
       "  </thead>\n",
       "  <tbody>\n",
       "    <tr>\n",
       "      <th>0</th>\n",
       "      <td>R&amp;D Spend</td>\n",
       "      <td>0.8056</td>\n",
       "    </tr>\n",
       "    <tr>\n",
       "      <th>1</th>\n",
       "      <td>Administration</td>\n",
       "      <td>-0.0688</td>\n",
       "    </tr>\n",
       "    <tr>\n",
       "      <th>2</th>\n",
       "      <td>Marketing Spend</td>\n",
       "      <td>0.0299</td>\n",
       "    </tr>\n",
       "    <tr>\n",
       "      <th>3</th>\n",
       "      <td>State_Florida</td>\n",
       "      <td>938.7930</td>\n",
       "    </tr>\n",
       "    <tr>\n",
       "      <th>4</th>\n",
       "      <td>State_New York</td>\n",
       "      <td>6.9878</td>\n",
       "    </tr>\n",
       "  </tbody>\n",
       "</table>\n",
       "</div>"
      ],
      "text/plain": [
       "           Feature  Coefficient\n",
       "0        R&D Spend       0.8056\n",
       "1   Administration      -0.0688\n",
       "2  Marketing Spend       0.0299\n",
       "3    State_Florida     938.7930\n",
       "4   State_New York       6.9878"
      ]
     },
     "execution_count": 38,
     "metadata": {},
     "output_type": "execute_result"
    }
   ],
   "source": [
    "# To view the coefficients of the model:\n",
    "coefficients = pd.DataFrame({'Feature': X_train.columns, 'Coefficient': lr_model.coef_})\n",
    "coefficients"
   ]
  },
  {
   "cell_type": "markdown",
   "id": "ee0e704d",
   "metadata": {},
   "source": [
    "## Random Forest Regression Model:"
   ]
  },
  {
   "cell_type": "code",
   "execution_count": 39,
   "id": "56a53c14",
   "metadata": {},
   "outputs": [
    {
     "name": "stdout",
     "output_type": "stream",
     "text": [
      "[134048.7798  88731.7505 100181.3613  44205.4669 130664.0696  37606.6184\n",
      " 115721.0268 102878.814  100750.193  130058.0863]\n"
     ]
    }
   ],
   "source": [
    "# To build a Random Forest Regression Model:\n",
    "rf_model = RandomForestRegressor(oob_score=True, random_state=42)\n",
    "rf_model.fit(X_train, y_train)\n",
    "\n",
    "# To predict the testing set y using the Random Forest Regression Model:\n",
    "y_pred = rf_model.predict(X_test)\n",
    "print(y_pred)"
   ]
  },
  {
   "cell_type": "code",
   "execution_count": 40,
   "id": "411c15b4",
   "metadata": {},
   "outputs": [
    {
     "data": {
      "text/html": [
       "<div>\n",
       "<style scoped>\n",
       "    .dataframe tbody tr th:only-of-type {\n",
       "        vertical-align: middle;\n",
       "    }\n",
       "\n",
       "    .dataframe tbody tr th {\n",
       "        vertical-align: top;\n",
       "    }\n",
       "\n",
       "    .dataframe thead th {\n",
       "        text-align: right;\n",
       "    }\n",
       "</style>\n",
       "<table border=\"1\" class=\"dataframe\">\n",
       "  <thead>\n",
       "    <tr style=\"text-align: right;\">\n",
       "      <th></th>\n",
       "      <th>Predicted Value</th>\n",
       "      <th>Actual Value</th>\n",
       "    </tr>\n",
       "  </thead>\n",
       "  <tbody>\n",
       "    <tr>\n",
       "      <th>13</th>\n",
       "      <td>134,048.7798</td>\n",
       "      <td>134,307.3500</td>\n",
       "    </tr>\n",
       "    <tr>\n",
       "      <th>39</th>\n",
       "      <td>88,731.7505</td>\n",
       "      <td>81,005.7600</td>\n",
       "    </tr>\n",
       "    <tr>\n",
       "      <th>30</th>\n",
       "      <td>100,181.3613</td>\n",
       "      <td>99,937.5900</td>\n",
       "    </tr>\n",
       "  </tbody>\n",
       "</table>\n",
       "</div>"
      ],
      "text/plain": [
       "    Predicted Value  Actual Value\n",
       "13     134,048.7798  134,307.3500\n",
       "39      88,731.7505   81,005.7600\n",
       "30     100,181.3613   99,937.5900"
      ]
     },
     "execution_count": 40,
     "metadata": {},
     "output_type": "execute_result"
    }
   ],
   "source": [
    "# To view the above result as a data frame:\n",
    "compare = pd.DataFrame(data={'Predicted Value':y_pred, 'Actual Value':y_test})\n",
    "compare.head(3)"
   ]
  },
  {
   "cell_type": "code",
   "execution_count": 41,
   "id": "aa831d00",
   "metadata": {},
   "outputs": [
    {
     "data": {
      "text/html": [
       "<style type=\"text/css\">\n",
       "</style>\n",
       "<table id=\"T_2f2bd\">\n",
       "  <thead>\n",
       "    <tr>\n",
       "      <th class=\"blank level0\" >&nbsp;</th>\n",
       "      <th id=\"T_2f2bd_level0_col0\" class=\"col_heading level0 col0\" >Random Forest Regression Metrics</th>\n",
       "    </tr>\n",
       "  </thead>\n",
       "  <tbody>\n",
       "    <tr>\n",
       "      <th id=\"T_2f2bd_level0_row0\" class=\"row_heading level0 row0\" >Mean Absolute Error</th>\n",
       "      <td id=\"T_2f2bd_row0_col0\" class=\"data row0 col0\" >6,129.24452</td>\n",
       "    </tr>\n",
       "    <tr>\n",
       "      <th id=\"T_2f2bd_level0_row1\" class=\"row_heading level0 row1\" >Mean Squared Error</th>\n",
       "      <td id=\"T_2f2bd_row1_col0\" class=\"data row1 col0\" >70,520,613.36592</td>\n",
       "    </tr>\n",
       "    <tr>\n",
       "      <th id=\"T_2f2bd_level0_row2\" class=\"row_heading level0 row2\" >Root Mean Squared Error</th>\n",
       "      <td id=\"T_2f2bd_row2_col0\" class=\"data row2 col0\" >8,397.65523</td>\n",
       "    </tr>\n",
       "    <tr>\n",
       "      <th id=\"T_2f2bd_level0_row3\" class=\"row_heading level0 row3\" >R2 Score</th>\n",
       "      <td id=\"T_2f2bd_row3_col0\" class=\"data row3 col0\" >0.91292</td>\n",
       "    </tr>\n",
       "    <tr>\n",
       "      <th id=\"T_2f2bd_level0_row4\" class=\"row_heading level0 row4\" >Adjusted R2 Score</th>\n",
       "      <td id=\"T_2f2bd_row4_col0\" class=\"data row4 col0\" >0.80406</td>\n",
       "    </tr>\n",
       "  </tbody>\n",
       "</table>\n"
      ],
      "text/plain": [
       "<pandas.io.formats.style.Styler at 0x2062d631b10>"
      ]
     },
     "execution_count": 41,
     "metadata": {},
     "output_type": "execute_result"
    }
   ],
   "source": [
    "# To view metrics for the Random Forest Regression Model:\n",
    "mae_rf = mean_absolute_error(y_test, y_pred)\n",
    "mse_rf = mean_squared_error(y_test, y_pred)\n",
    "rmse_rf = np.sqrt(mean_squared_error(y_test, y_pred))\n",
    "r2_rf = r2_score(y_test, y_pred)\n",
    "# To calculate the adjusted r-squared for the testing set\n",
    "n = X_test.shape[0]\n",
    "p = X_test.shape[1]\n",
    "r2 = r2_score(y_test, y_pred)\n",
    "adj_r2_rf = 1 - ((1 - r2) * (n - 1)) / (n - p - 1)\n",
    "\n",
    "df = pd.DataFrame({'Mean Absolute Error': [mae_rf], 'Mean Squared Error': [mse_rf], \n",
    "                   'Root Mean Squared Error': [rmse_rf], 'R2 Score': [r2_rf],\n",
    "                  'Adjusted R2 Score': [adj_r2_rf]})\n",
    "# To present the metrics as a data frame\n",
    "df.transpose().rename(columns={0: \"Random Forest Regression Metrics\"}).style.format(\"{:,.5f}\")"
   ]
  },
  {
   "cell_type": "code",
   "execution_count": 42,
   "id": "bcde0410",
   "metadata": {},
   "outputs": [
    {
     "name": "stdout",
     "output_type": "stream",
     "text": [
      "0.934955219366767\n"
     ]
    }
   ],
   "source": [
    "# To view the OOB score:\n",
    "print(rf_model.oob_score_)"
   ]
  },
  {
   "cell_type": "markdown",
   "id": "e9c1d391",
   "metadata": {},
   "source": [
    "The out-of-bag (OOB) score is an estimate of \n",
    "the performance of a Random Forest model on \n",
    "unseen data. It is computed using the samples \n",
    "that were not included in the training of \n",
    "the individual trees. A higher OOB score indicates \n",
    "better performance of the model. The range for\n",
    "an OOB score is between 0 and 1."
   ]
  },
  {
   "cell_type": "code",
   "execution_count": 43,
   "id": "3c1a7d38",
   "metadata": {},
   "outputs": [
    {
     "data": {
      "image/png": "[encoded data removed]",
      "text/plain": [
       "<Figure size 600x300 with 1 Axes>"
      ]
     },
     "metadata": {},
     "output_type": "display_data"
    }
   ],
   "source": [
    "# To create a Feature Importance Plot for the Random Forest Regression Model:\n",
    "feature_importance = rf_model.feature_importances_\n",
    "feature_names = X_train.columns\n",
    "# Create a data frame with feature names and importances\n",
    "data = {'feature_names': feature_names, 'feature_importance': feature_importance}\n",
    "fi_df = pd.DataFrame(data)\n",
    "# Sort the data frame in decreasing order of feature importance\n",
    "fi_df.sort_values(by='feature_importance', ascending=False, inplace=True)\n",
    "# Plot the feature importance using seaborn\n",
    "plt.figure(figsize=(6, 3))\n",
    "sns.barplot(x='feature_importance', y='feature_names', data=fi_df)\n",
    "plt.title('Feature Importance')\n",
    "plt.xlabel('Importance')\n",
    "plt.ylabel('Features')\n",
    "# Add labels to the bars\n",
    "for i, v in enumerate(fi_df['feature_importance']):\n",
    "    plt.text(v + 0.01, i + .25, str(round(v, 3)), fontweight='bold')\n",
    "plt.xlim([0, 1.10])\n",
    "plt.show()"
   ]
  },
  {
   "cell_type": "markdown",
   "id": "7881ec02",
   "metadata": {},
   "source": [
    "R&D Spend and Marketing Spend were the two most important features in the Random Forest model."
   ]
  },
  {
   "cell_type": "markdown",
   "id": "538dfbc6",
   "metadata": {},
   "source": [
    "## Lasso Regression Model:"
   ]
  },
  {
   "cell_type": "code",
   "execution_count": 44,
   "id": "abb111da",
   "metadata": {},
   "outputs": [
    {
     "name": "stdout",
     "output_type": "stream",
     "text": [
      "[126366.12042342  84610.0486505   99678.48941004  46356.71108412\n",
      " 128749.02207836  50910.90632899 109742.45982303 100647.4440307\n",
      "  97605.10667086 113101.19456832]\n"
     ]
    }
   ],
   "source": [
    "# To build a Lasso Regression Model:\n",
    "# Standardizing the training and test data\n",
    "scaler = StandardScaler()\n",
    "X_train_scaled = scaler.fit_transform(X_train)\n",
    "X_test_scaled = scaler.transform(X_test)\n",
    "# Initializing the Lasso Regressor\n",
    "ls_reg = Lasso()\n",
    "# Fitting the standardized training data to the Lasso regressor\n",
    "ls_reg.fit(X_train_scaled, y_train)\n",
    "# Predicting for the standardized X_test\n",
    "y_pred = ls_reg.predict(X_test_scaled)\n",
    "print(y_pred)"
   ]
  },
  {
   "cell_type": "code",
   "execution_count": 45,
   "id": "eac76787",
   "metadata": {},
   "outputs": [
    {
     "data": {
      "text/html": [
       "<div>\n",
       "<style scoped>\n",
       "    .dataframe tbody tr th:only-of-type {\n",
       "        vertical-align: middle;\n",
       "    }\n",
       "\n",
       "    .dataframe tbody tr th {\n",
       "        vertical-align: top;\n",
       "    }\n",
       "\n",
       "    .dataframe thead th {\n",
       "        text-align: right;\n",
       "    }\n",
       "</style>\n",
       "<table border=\"1\" class=\"dataframe\">\n",
       "  <thead>\n",
       "    <tr style=\"text-align: right;\">\n",
       "      <th></th>\n",
       "      <th>Predicted Value</th>\n",
       "      <th>Actual Value</th>\n",
       "    </tr>\n",
       "  </thead>\n",
       "  <tbody>\n",
       "    <tr>\n",
       "      <th>13</th>\n",
       "      <td>126,366.1204</td>\n",
       "      <td>134,307.3500</td>\n",
       "    </tr>\n",
       "    <tr>\n",
       "      <th>39</th>\n",
       "      <td>84,610.0487</td>\n",
       "      <td>81,005.7600</td>\n",
       "    </tr>\n",
       "    <tr>\n",
       "      <th>30</th>\n",
       "      <td>99,678.4894</td>\n",
       "      <td>99,937.5900</td>\n",
       "    </tr>\n",
       "  </tbody>\n",
       "</table>\n",
       "</div>"
      ],
      "text/plain": [
       "    Predicted Value  Actual Value\n",
       "13     126,366.1204  134,307.3500\n",
       "39      84,610.0487   81,005.7600\n",
       "30      99,678.4894   99,937.5900"
      ]
     },
     "execution_count": 45,
     "metadata": {},
     "output_type": "execute_result"
    }
   ],
   "source": [
    "# To view the above result as a data frame:\n",
    "compare = pd.DataFrame(data={'Predicted Value':y_pred, 'Actual Value':y_test})\n",
    "compare.head(3)"
   ]
  },
  {
   "cell_type": "code",
   "execution_count": 46,
   "id": "ae8d8a7e",
   "metadata": {},
   "outputs": [
    {
     "data": {
      "text/html": [
       "<style type=\"text/css\">\n",
       "</style>\n",
       "<table id=\"T_e7cc3\">\n",
       "  <thead>\n",
       "    <tr>\n",
       "      <th class=\"blank level0\" >&nbsp;</th>\n",
       "      <th id=\"T_e7cc3_level0_col0\" class=\"col_heading level0 col0\" >Lasso Regression Metrics</th>\n",
       "    </tr>\n",
       "  </thead>\n",
       "  <tbody>\n",
       "    <tr>\n",
       "      <th id=\"T_e7cc3_level0_row0\" class=\"row_heading level0 row0\" >Mean Absolute Error</th>\n",
       "      <td id=\"T_e7cc3_row0_col0\" class=\"data row0 col0\" >6,960.88840</td>\n",
       "    </tr>\n",
       "    <tr>\n",
       "      <th id=\"T_e7cc3_level0_row1\" class=\"row_heading level0 row1\" >Mean Squared Error</th>\n",
       "      <td id=\"T_e7cc3_row1_col0\" class=\"data row1 col0\" >81,991,620.94623</td>\n",
       "    </tr>\n",
       "    <tr>\n",
       "      <th id=\"T_e7cc3_level0_row2\" class=\"row_heading level0 row2\" >Root Mean Squared Error</th>\n",
       "      <td id=\"T_e7cc3_row2_col0\" class=\"data row2 col0\" >9,054.92247</td>\n",
       "    </tr>\n",
       "    <tr>\n",
       "      <th id=\"T_e7cc3_level0_row3\" class=\"row_heading level0 row3\" >R2 Score</th>\n",
       "      <td id=\"T_e7cc3_row3_col0\" class=\"data row3 col0\" >0.89875</td>\n",
       "    </tr>\n",
       "    <tr>\n",
       "      <th id=\"T_e7cc3_level0_row4\" class=\"row_heading level0 row4\" >Adjusted R2 Score</th>\n",
       "      <td id=\"T_e7cc3_row4_col0\" class=\"data row4 col0\" >0.77219</td>\n",
       "    </tr>\n",
       "  </tbody>\n",
       "</table>\n"
      ],
      "text/plain": [
       "<pandas.io.formats.style.Styler at 0x2062e78ef20>"
      ]
     },
     "execution_count": 46,
     "metadata": {},
     "output_type": "execute_result"
    }
   ],
   "source": [
    "# To view metrics for the Lasso Regression Model:\n",
    "mae_ls = mean_absolute_error(y_test, y_pred)\n",
    "mse_ls = mean_squared_error(y_test, y_pred)\n",
    "rmse_ls = np.sqrt(mean_squared_error(y_test, y_pred))\n",
    "r2_ls = r2_score(y_test, y_pred)\n",
    "# To calculate the adjusted r-squared for the testing set\n",
    "n = X_test.shape[0]\n",
    "p = X_test.shape[1]\n",
    "r2 = r2_score(y_test, y_pred)\n",
    "adj_r2_ls = 1 - ((1 - r2) * (n - 1)) / (n - p - 1)\n",
    "\n",
    "df = pd.DataFrame({'Mean Absolute Error': [mae_ls], 'Mean Squared Error': [mse_ls], \n",
    "                   'Root Mean Squared Error': [rmse_ls], 'R2 Score': [r2_ls],\n",
    "                  'Adjusted R2 Score': [adj_r2_ls]})\n",
    "# To present the metrics as a data frame\n",
    "df.transpose().rename(columns={0: \"Lasso Regression Metrics\"}).style.format(\"{:,.5f}\")"
   ]
  },
  {
   "cell_type": "markdown",
   "id": "8a930e95",
   "metadata": {},
   "source": [
    "## Ridge Regression Model:"
   ]
  },
  {
   "cell_type": "code",
   "execution_count": 47,
   "id": "6616e3f9",
   "metadata": {},
   "outputs": [
    {
     "name": "stdout",
     "output_type": "stream",
     "text": [
      "[126262.79928765  84855.30579482  98117.45988153  46877.3446625\n",
      " 129258.91706082  50044.45240274 108706.91800655 100296.92423325\n",
      "  95869.56580476 110315.62964652]\n"
     ]
    }
   ],
   "source": [
    "# To build a Ridge Regression Model:\n",
    "# Standardizing the training and test data\n",
    "scaler = StandardScaler()\n",
    "X_train_scaled = scaler.fit_transform(X_train)\n",
    "X_test_scaled = scaler.transform(X_test)\n",
    "# Initializing the Ridge Regressor\n",
    "rd_reg = Ridge()\n",
    "# Fitting the standardized training data to the Ridge regressor\n",
    "rd_reg.fit(X_train_scaled, y_train)\n",
    "# Predicting for the standardized X_test\n",
    "y_pred = rd_reg.predict(X_test_scaled)\n",
    "print(y_pred)"
   ]
  },
  {
   "cell_type": "code",
   "execution_count": 48,
   "id": "d18e113a",
   "metadata": {},
   "outputs": [
    {
     "data": {
      "text/html": [
       "<div>\n",
       "<style scoped>\n",
       "    .dataframe tbody tr th:only-of-type {\n",
       "        vertical-align: middle;\n",
       "    }\n",
       "\n",
       "    .dataframe tbody tr th {\n",
       "        vertical-align: top;\n",
       "    }\n",
       "\n",
       "    .dataframe thead th {\n",
       "        text-align: right;\n",
       "    }\n",
       "</style>\n",
       "<table border=\"1\" class=\"dataframe\">\n",
       "  <thead>\n",
       "    <tr style=\"text-align: right;\">\n",
       "      <th></th>\n",
       "      <th>Predicted Value</th>\n",
       "      <th>Actual Value</th>\n",
       "    </tr>\n",
       "  </thead>\n",
       "  <tbody>\n",
       "    <tr>\n",
       "      <th>13</th>\n",
       "      <td>126,262.7993</td>\n",
       "      <td>134,307.3500</td>\n",
       "    </tr>\n",
       "    <tr>\n",
       "      <th>39</th>\n",
       "      <td>84,855.3058</td>\n",
       "      <td>81,005.7600</td>\n",
       "    </tr>\n",
       "    <tr>\n",
       "      <th>30</th>\n",
       "      <td>98,117.4599</td>\n",
       "      <td>99,937.5900</td>\n",
       "    </tr>\n",
       "  </tbody>\n",
       "</table>\n",
       "</div>"
      ],
      "text/plain": [
       "    Predicted Value  Actual Value\n",
       "13     126,262.7993  134,307.3500\n",
       "39      84,855.3058   81,005.7600\n",
       "30      98,117.4599   99,937.5900"
      ]
     },
     "execution_count": 48,
     "metadata": {},
     "output_type": "execute_result"
    }
   ],
   "source": [
    "# To view the above result as a data frame:\n",
    "compare = pd.DataFrame(data={'Predicted Value':y_pred, 'Actual Value':y_test})\n",
    "compare.head(3)"
   ]
  },
  {
   "cell_type": "code",
   "execution_count": 49,
   "id": "755dffac",
   "metadata": {},
   "outputs": [
    {
     "data": {
      "text/html": [
       "<style type=\"text/css\">\n",
       "</style>\n",
       "<table id=\"T_d0ebb\">\n",
       "  <thead>\n",
       "    <tr>\n",
       "      <th class=\"blank level0\" >&nbsp;</th>\n",
       "      <th id=\"T_d0ebb_level0_col0\" class=\"col_heading level0 col0\" >Ridge Regression Metrics</th>\n",
       "    </tr>\n",
       "  </thead>\n",
       "  <tbody>\n",
       "    <tr>\n",
       "      <th id=\"T_d0ebb_level0_row0\" class=\"row_heading level0 row0\" >Mean Absolute Error</th>\n",
       "      <td id=\"T_d0ebb_row0_col0\" class=\"data row0 col0\" >7,412.28497</td>\n",
       "    </tr>\n",
       "    <tr>\n",
       "      <th id=\"T_d0ebb_level0_row1\" class=\"row_heading level0 row1\" >Mean Squared Error</th>\n",
       "      <td id=\"T_d0ebb_row1_col0\" class=\"data row1 col0\" >84,731,799.39481</td>\n",
       "    </tr>\n",
       "    <tr>\n",
       "      <th id=\"T_d0ebb_level0_row2\" class=\"row_heading level0 row2\" >Root Mean Squared Error</th>\n",
       "      <td id=\"T_d0ebb_row2_col0\" class=\"data row2 col0\" >9,204.98775</td>\n",
       "    </tr>\n",
       "    <tr>\n",
       "      <th id=\"T_d0ebb_level0_row3\" class=\"row_heading level0 row3\" >R2 Score</th>\n",
       "      <td id=\"T_d0ebb_row3_col0\" class=\"data row3 col0\" >0.89537</td>\n",
       "    </tr>\n",
       "    <tr>\n",
       "      <th id=\"T_d0ebb_level0_row4\" class=\"row_heading level0 row4\" >Adjusted R2 Score</th>\n",
       "      <td id=\"T_d0ebb_row4_col0\" class=\"data row4 col0\" >0.76457</td>\n",
       "    </tr>\n",
       "  </tbody>\n",
       "</table>\n"
      ],
      "text/plain": [
       "<pandas.io.formats.style.Styler at 0x2062e7eff10>"
      ]
     },
     "execution_count": 49,
     "metadata": {},
     "output_type": "execute_result"
    }
   ],
   "source": [
    "# To view metrics for the Ridge Regression Model:\n",
    "mae_rd = mean_absolute_error(y_test, y_pred)\n",
    "mse_rd = mean_squared_error(y_test, y_pred)\n",
    "rmse_rd = np.sqrt(mean_squared_error(y_test, y_pred))\n",
    "r2_rd = r2_score(y_test, y_pred)\n",
    "# To calculate the adjusted r-squared for the testing set\n",
    "n = X_test.shape[0]\n",
    "p = X_test.shape[1]\n",
    "r2 = r2_score(y_test, y_pred)\n",
    "adj_r2_rd = 1 - ((1 - r2) * (n - 1)) / (n - p - 1)\n",
    "\n",
    "df = pd.DataFrame({'Mean Absolute Error': [mae_rd], 'Mean Squared Error': [mse_rd], \n",
    "                   'Root Mean Squared Error': [rmse_rd], 'R2 Score': [r2_rd],\n",
    "                  'Adjusted R2 Score': [adj_r2_rd]})\n",
    "# To present the metrics as a data frame\n",
    "df.transpose().rename(columns={0: \"Ridge Regression Metrics\"}).style.format(\"{:,.5f}\")"
   ]
  },
  {
   "cell_type": "markdown",
   "id": "645b5df5",
   "metadata": {},
   "source": [
    "## K-Nearest Neighbors Regression Model:"
   ]
  },
  {
   "cell_type": "code",
   "execution_count": 50,
   "id": "f38228e8",
   "metadata": {},
   "outputs": [],
   "source": [
    "# To build a KNN Regression Model:\n",
    "# Standardizing the training and test data\n",
    "scaler = StandardScaler()\n",
    "X_train_scaled = scaler.fit_transform(X_train)\n",
    "X_test_scaled = scaler.transform(X_test)\n",
    "# Initializing the KNN Regressor\n",
    "knn_reg = KNeighborsRegressor()\n",
    "# Fitting the standardized training data\n",
    "knn_reg.fit(X_train_scaled, y_train)\n",
    "# Predicting for the standardized X_test\n",
    "y_pred = knn_reg.predict(X_test_scaled)"
   ]
  },
  {
   "cell_type": "code",
   "execution_count": 51,
   "id": "68effc02",
   "metadata": {},
   "outputs": [
    {
     "data": {
      "text/html": [
       "<style type=\"text/css\">\n",
       "</style>\n",
       "<table id=\"T_a702c\">\n",
       "  <thead>\n",
       "    <tr>\n",
       "      <th class=\"blank level0\" >&nbsp;</th>\n",
       "      <th id=\"T_a702c_level0_col0\" class=\"col_heading level0 col0\" >KNN Regression Metrics</th>\n",
       "    </tr>\n",
       "  </thead>\n",
       "  <tbody>\n",
       "    <tr>\n",
       "      <th id=\"T_a702c_level0_row0\" class=\"row_heading level0 row0\" >Mean Absolute Error</th>\n",
       "      <td id=\"T_a702c_row0_col0\" class=\"data row0 col0\" >19,667.24640</td>\n",
       "    </tr>\n",
       "    <tr>\n",
       "      <th id=\"T_a702c_level0_row1\" class=\"row_heading level0 row1\" >Mean Squared Error</th>\n",
       "      <td id=\"T_a702c_row1_col0\" class=\"data row1 col0\" >682,933,923.09331</td>\n",
       "    </tr>\n",
       "    <tr>\n",
       "      <th id=\"T_a702c_level0_row2\" class=\"row_heading level0 row2\" >Root Mean Squared Error</th>\n",
       "      <td id=\"T_a702c_row2_col0\" class=\"data row2 col0\" >26,133.00448</td>\n",
       "    </tr>\n",
       "    <tr>\n",
       "      <th id=\"T_a702c_level0_row3\" class=\"row_heading level0 row3\" >R2 Score</th>\n",
       "      <td id=\"T_a702c_row3_col0\" class=\"data row3 col0\" >0.15666</td>\n",
       "    </tr>\n",
       "    <tr>\n",
       "      <th id=\"T_a702c_level0_row4\" class=\"row_heading level0 row4\" >Adjusted R2 Score</th>\n",
       "      <td id=\"T_a702c_row4_col0\" class=\"data row4 col0\" >-0.89753</td>\n",
       "    </tr>\n",
       "  </tbody>\n",
       "</table>\n"
      ],
      "text/plain": [
       "<pandas.io.formats.style.Styler at 0x2062d76b190>"
      ]
     },
     "execution_count": 51,
     "metadata": {},
     "output_type": "execute_result"
    }
   ],
   "source": [
    "# To view metrics for the KNN Regression Model:\n",
    "mae_knn = mean_absolute_error(y_test, y_pred)\n",
    "mse_knn = mean_squared_error(y_test, y_pred)\n",
    "rmse_knn = np.sqrt(mean_squared_error(y_test, y_pred))\n",
    "r2_knn = r2_score(y_test, y_pred)\n",
    "# To calculate the adjusted r-squared for the testing set\n",
    "n = X_test.shape[0]\n",
    "p = X_test.shape[1]\n",
    "r2 = r2_score(y_test, y_pred)\n",
    "adj_r2_knn = 1 - ((1 - r2) * (n - 1)) / (n - p - 1)\n",
    "\n",
    "df = pd.DataFrame({'Mean Absolute Error': [mae_knn], 'Mean Squared Error': [mse_knn], \n",
    "                   'Root Mean Squared Error': [rmse_knn], 'R2 Score': [r2_knn],\n",
    "                  'Adjusted R2 Score': [adj_r2_knn]})\n",
    "# To present the metrics as a data frame\n",
    "df.transpose().rename(columns={0: \"KNN Regression Metrics\"}).style.format(\"{:,.5f}\")"
   ]
  },
  {
   "cell_type": "markdown",
   "id": "e2e346c1",
   "metadata": {},
   "source": [
    "## Decision Tree Regression Model:"
   ]
  },
  {
   "cell_type": "code",
   "execution_count": 52,
   "id": "67b939e6",
   "metadata": {},
   "outputs": [],
   "source": [
    "# To build a Decision Tree Regression Model:\n",
    "# Initializing the Decision Tree Regressor\n",
    "dt_model = DecisionTreeRegressor()\n",
    "# Fitting the training data to the Decision Tree regressor\n",
    "dt_model.fit(X_train, y_train)\n",
    "# Predicting for the X_test\n",
    "y_pred = dt_model.predict(X_test)"
   ]
  },
  {
   "cell_type": "code",
   "execution_count": 53,
   "id": "f4de0d85",
   "metadata": {},
   "outputs": [
    {
     "data": {
      "text/html": [
       "<style type=\"text/css\">\n",
       "</style>\n",
       "<table id=\"T_c7d07\">\n",
       "  <thead>\n",
       "    <tr>\n",
       "      <th class=\"blank level0\" >&nbsp;</th>\n",
       "      <th id=\"T_c7d07_level0_col0\" class=\"col_heading level0 col0\" >Decision Tree Regression Metrics</th>\n",
       "    </tr>\n",
       "  </thead>\n",
       "  <tbody>\n",
       "    <tr>\n",
       "      <th id=\"T_c7d07_level0_row0\" class=\"row_heading level0 row0\" >Mean Absolute Error</th>\n",
       "      <td id=\"T_c7d07_row0_col0\" class=\"data row0 col0\" >8,198.52500</td>\n",
       "    </tr>\n",
       "    <tr>\n",
       "      <th id=\"T_c7d07_level0_row1\" class=\"row_heading level0 row1\" >Mean Squared Error</th>\n",
       "      <td id=\"T_c7d07_row1_col0\" class=\"data row1 col0\" >111,459,538.02827</td>\n",
       "    </tr>\n",
       "    <tr>\n",
       "      <th id=\"T_c7d07_level0_row2\" class=\"row_heading level0 row2\" >Root Mean Squared Error</th>\n",
       "      <td id=\"T_c7d07_row2_col0\" class=\"data row2 col0\" >10,557.43994</td>\n",
       "    </tr>\n",
       "    <tr>\n",
       "      <th id=\"T_c7d07_level0_row3\" class=\"row_heading level0 row3\" >R2 Score</th>\n",
       "      <td id=\"T_c7d07_row3_col0\" class=\"data row3 col0\" >0.86236</td>\n",
       "    </tr>\n",
       "    <tr>\n",
       "      <th id=\"T_c7d07_level0_row4\" class=\"row_heading level0 row4\" >Adjusted R2 Score</th>\n",
       "      <td id=\"T_c7d07_row4_col0\" class=\"data row4 col0\" >0.69031</td>\n",
       "    </tr>\n",
       "  </tbody>\n",
       "</table>\n"
      ],
      "text/plain": [
       "<pandas.io.formats.style.Styler at 0x2062e7eff70>"
      ]
     },
     "execution_count": 53,
     "metadata": {},
     "output_type": "execute_result"
    }
   ],
   "source": [
    "# To view metrics for the Decision Tree Regression Model:\n",
    "mae_dt = mean_absolute_error(y_test, y_pred)\n",
    "mse_dt = mean_squared_error(y_test, y_pred)\n",
    "rmse_dt = np.sqrt(mean_squared_error(y_test, y_pred))\n",
    "r2_dt = r2_score(y_test, y_pred)\n",
    "# To calculate the adjusted r-squared for the testing set\n",
    "n = X_test.shape[0]\n",
    "p = X_test.shape[1]\n",
    "r2 = r2_score(y_test, y_pred)\n",
    "adj_r2_dt = 1 - ((1 - r2) * (n - 1)) / (n - p - 1)\n",
    "\n",
    "df = pd.DataFrame({'Mean Absolute Error': [mae_dt], 'Mean Squared Error': [mse_dt], \n",
    "                   'Root Mean Squared Error': [rmse_dt], 'R2 Score': [r2_dt],\n",
    "                  'Adjusted R2 Score': [adj_r2_dt]})\n",
    "# To present the metrics as a data frame\n",
    "df.transpose().rename(columns={0: \"Decision Tree Regression Metrics\"}).style.format(\"{:,.5f}\")"
   ]
  },
  {
   "cell_type": "markdown",
   "id": "b3fe947a",
   "metadata": {},
   "source": [
    "## LightGBM Regression Model:"
   ]
  },
  {
   "cell_type": "code",
   "execution_count": 54,
   "id": "c37cde94",
   "metadata": {},
   "outputs": [],
   "source": [
    "# To build a LightGBM Regression Model:\n",
    "# Initializing the LightGBM Regressor\n",
    "lgbm_reg = LGBMRegressor(verbose=-1, random_state=42)\n",
    "# Fitting the training data to the LightGBM regressor\n",
    "lgbm_reg.fit(X_train, y_train)\n",
    "# Predicting for the X_test\n",
    "y_pred = lgbm_reg.predict(X_test)"
   ]
  },
  {
   "cell_type": "code",
   "execution_count": 55,
   "id": "699a3945",
   "metadata": {},
   "outputs": [
    {
     "data": {
      "text/html": [
       "<style type=\"text/css\">\n",
       "</style>\n",
       "<table id=\"T_f30d6\">\n",
       "  <thead>\n",
       "    <tr>\n",
       "      <th class=\"blank level0\" >&nbsp;</th>\n",
       "      <th id=\"T_f30d6_level0_col0\" class=\"col_heading level0 col0\" >LightGBM Regression Metrics</th>\n",
       "    </tr>\n",
       "  </thead>\n",
       "  <tbody>\n",
       "    <tr>\n",
       "      <th id=\"T_f30d6_level0_row0\" class=\"row_heading level0 row0\" >Mean Absolute Error</th>\n",
       "      <td id=\"T_f30d6_row0_col0\" class=\"data row0 col0\" >23,079.63916</td>\n",
       "    </tr>\n",
       "    <tr>\n",
       "      <th id=\"T_f30d6_level0_row1\" class=\"row_heading level0 row1\" >Mean Squared Error</th>\n",
       "      <td id=\"T_f30d6_row1_col0\" class=\"data row1 col0\" >697,264,210.85704</td>\n",
       "    </tr>\n",
       "    <tr>\n",
       "      <th id=\"T_f30d6_level0_row2\" class=\"row_heading level0 row2\" >Root Mean Squared Error</th>\n",
       "      <td id=\"T_f30d6_row2_col0\" class=\"data row2 col0\" >26,405.76094</td>\n",
       "    </tr>\n",
       "    <tr>\n",
       "      <th id=\"T_f30d6_level0_row3\" class=\"row_heading level0 row3\" >R2 Score</th>\n",
       "      <td id=\"T_f30d6_row3_col0\" class=\"data row3 col0\" >0.13896</td>\n",
       "    </tr>\n",
       "    <tr>\n",
       "      <th id=\"T_f30d6_level0_row4\" class=\"row_heading level0 row4\" >Adjusted R2 Score</th>\n",
       "      <td id=\"T_f30d6_row4_col0\" class=\"data row4 col0\" >-0.93734</td>\n",
       "    </tr>\n",
       "  </tbody>\n",
       "</table>\n"
      ],
      "text/plain": [
       "<pandas.io.formats.style.Styler at 0x2062e78c940>"
      ]
     },
     "execution_count": 55,
     "metadata": {},
     "output_type": "execute_result"
    }
   ],
   "source": [
    "# To view metrics for the LightGBM Regression Model:\n",
    "mae_lgbm = mean_absolute_error(y_test, y_pred)\n",
    "mse_lgbm = mean_squared_error(y_test, y_pred)\n",
    "rmse_lgbm = np.sqrt(mean_squared_error(y_test, y_pred))\n",
    "r2_lgbm = r2_score(y_test, y_pred)\n",
    "# To calculate the adjusted r-squared for the testing set\n",
    "n = X_test.shape[0]\n",
    "p = X_test.shape[1]\n",
    "r2 = r2_score(y_test, y_pred)\n",
    "adj_r2_lgbm = 1 - ((1 - r2) * (n - 1)) / (n - p - 1)\n",
    "\n",
    "df = pd.DataFrame({'Mean Absolute Error': [mae_lgbm], 'Mean Squared Error': [mse_lgbm], \n",
    "                   'Root Mean Squared Error': [rmse_lgbm], 'R2 Score': [r2_lgbm],\n",
    "                  'Adjusted R2 Score': [adj_r2_lgbm]})\n",
    "# To present the metrics as a data frame\n",
    "df.transpose().rename(columns={0: \"LightGBM Regression Metrics\"}).style.format(\"{:,.5f}\")"
   ]
  },
  {
   "cell_type": "code",
   "execution_count": 56,
   "id": "45c018cd",
   "metadata": {},
   "outputs": [
    {
     "data": {
      "image/png": "[encoded data removed]",
      "text/plain": [
       "<Figure size 600x300 with 1 Axes>"
      ]
     },
     "metadata": {},
     "output_type": "display_data"
    }
   ],
   "source": [
    "# To create a Feature Importance Plot for the LightGBM Regression Model:\n",
    "feature_importances = pd.DataFrame({'Feature': X_train.columns, \n",
    "                                    'Importance': lgbm_reg.feature_importances_})\n",
    "feature_importances = feature_importances.sort_values(by='Importance', ascending=False)\n",
    "# Plot feature importances\n",
    "plt.figure(figsize=(6, 3))\n",
    "ax = sns.barplot(x='Importance', y='Feature', data=feature_importances)\n",
    "plt.title('Feature Importance')\n",
    "plt.xlabel('Importance')\n",
    "plt.ylabel('Features')\n",
    "# Add labels to the bars\n",
    "for i, v in enumerate(feature_importances['Importance']):\n",
    "    ax.text(v + 0.01, i + .25, str(round(v, 2)), fontweight='bold')\n",
    "ax.set_xlim([0, 110])\n",
    "plt.show()"
   ]
  },
  {
   "cell_type": "markdown",
   "id": "5940a999",
   "metadata": {},
   "source": [
    "R&D Spend was the most important feature in the LightGBM model."
   ]
  },
  {
   "cell_type": "markdown",
   "id": "8332a301",
   "metadata": {},
   "source": [
    "## AdaBoost Regression Model:"
   ]
  },
  {
   "cell_type": "code",
   "execution_count": 57,
   "id": "ed884530",
   "metadata": {},
   "outputs": [],
   "source": [
    "# To build an AdaBoost Regression Model:\n",
    "# Create an AdaBoost regressor object\n",
    "ada = AdaBoostRegressor(n_estimators=500, learning_rate=0.1, random_state=42)\n",
    "# Fit the model to the training data\n",
    "ada.fit(X_train, y_train)\n",
    "# Predict the target variable\n",
    "y_pred = ada.predict(X_test)"
   ]
  },
  {
   "cell_type": "code",
   "execution_count": 58,
   "id": "4dc91823",
   "metadata": {},
   "outputs": [
    {
     "data": {
      "text/html": [
       "<style type=\"text/css\">\n",
       "</style>\n",
       "<table id=\"T_811d1\">\n",
       "  <thead>\n",
       "    <tr>\n",
       "      <th class=\"blank level0\" >&nbsp;</th>\n",
       "      <th id=\"T_811d1_level0_col0\" class=\"col_heading level0 col0\" >AdaBoost Regression Metrics</th>\n",
       "    </tr>\n",
       "  </thead>\n",
       "  <tbody>\n",
       "    <tr>\n",
       "      <th id=\"T_811d1_level0_row0\" class=\"row_heading level0 row0\" >Mean Absolute Error</th>\n",
       "      <td id=\"T_811d1_row0_col0\" class=\"data row0 col0\" >8,034.47269</td>\n",
       "    </tr>\n",
       "    <tr>\n",
       "      <th id=\"T_811d1_level0_row1\" class=\"row_heading level0 row1\" >Mean Squared Error</th>\n",
       "      <td id=\"T_811d1_row1_col0\" class=\"data row1 col0\" >113,865,429.70264</td>\n",
       "    </tr>\n",
       "    <tr>\n",
       "      <th id=\"T_811d1_level0_row2\" class=\"row_heading level0 row2\" >Root Mean Squared Error</th>\n",
       "      <td id=\"T_811d1_row2_col0\" class=\"data row2 col0\" >10,670.77456</td>\n",
       "    </tr>\n",
       "    <tr>\n",
       "      <th id=\"T_811d1_level0_row3\" class=\"row_heading level0 row3\" >R2 Score</th>\n",
       "      <td id=\"T_811d1_row3_col0\" class=\"data row3 col0\" >0.85939</td>\n",
       "    </tr>\n",
       "    <tr>\n",
       "      <th id=\"T_811d1_level0_row4\" class=\"row_heading level0 row4\" >Adjusted R2 Score</th>\n",
       "      <td id=\"T_811d1_row4_col0\" class=\"data row4 col0\" >0.68363</td>\n",
       "    </tr>\n",
       "  </tbody>\n",
       "</table>\n"
      ],
      "text/plain": [
       "<pandas.io.formats.style.Styler at 0x2062ec723b0>"
      ]
     },
     "execution_count": 58,
     "metadata": {},
     "output_type": "execute_result"
    }
   ],
   "source": [
    "# To view metrics for the AdaBoost Regression Model:\n",
    "mae_ada = mean_absolute_error(y_test, y_pred)\n",
    "mse_ada = mean_squared_error(y_test, y_pred)\n",
    "rmse_ada = np.sqrt(mean_squared_error(y_test, y_pred))\n",
    "r2_ada = r2_score(y_test, y_pred)\n",
    "# To calculate the adjusted r-squared for the testing set\n",
    "n = X_test.shape[0]\n",
    "p = X_test.shape[1]\n",
    "r2 = r2_score(y_test, y_pred)\n",
    "adj_r2_ada = 1 - ((1 - r2) * (n - 1)) / (n - p - 1)\n",
    "\n",
    "df = pd.DataFrame({'Mean Absolute Error': [mae_ada], 'Mean Squared Error': [mse_ada], \n",
    "                   'Root Mean Squared Error': [rmse_ada], 'R2 Score': [r2_ada],\n",
    "                  'Adjusted R2 Score': [adj_r2_ada]})\n",
    "# To present the metrics as a data frame\n",
    "df.transpose().rename(columns={0: \"AdaBoost Regression Metrics\"}).style.format(\"{:,.5f}\")"
   ]
  },
  {
   "cell_type": "code",
   "execution_count": 59,
   "id": "5fdcce9d",
   "metadata": {},
   "outputs": [
    {
     "data": {
      "image/png": "[encoded data removed]",
      "text/plain": [
       "<Figure size 600x300 with 1 Axes>"
      ]
     },
     "metadata": {},
     "output_type": "display_data"
    }
   ],
   "source": [
    "# To create a Feature Importance Plot for the AdaBoost Regression Model:\n",
    "feature_importance = pd.DataFrame({'Feature': X_train.columns, \n",
    "                                   'Importance': ada.feature_importances_})\n",
    "# Sort the data frame by importance score in descending order\n",
    "feature_importance = feature_importance.sort_values('Importance', ascending=False)\n",
    "# Create a bar plot using seaborn\n",
    "plt.figure(figsize=(6, 3))\n",
    "ax = sns.barplot(x='Importance', y='Feature', data=feature_importance)\n",
    "# Add labels and a title\n",
    "for p in ax.patches:\n",
    "    ax.annotate(f'{p.get_width():.2f}', (p.get_width(), p.get_y() + p.get_height() / 2),\n",
    "                 ha='left', va='center', weight='bold')\n",
    "plt.xlabel('Importance')\n",
    "plt.ylabel('Features')\n",
    "plt.title('Feature Importance')\n",
    "plt.xlim(0, 1.10)\n",
    "plt.show()"
   ]
  },
  {
   "cell_type": "markdown",
   "id": "e42e909a",
   "metadata": {},
   "source": [
    "R&D Spend and Marketing Spend were the two most important features in the AdaBoost model."
   ]
  },
  {
   "cell_type": "markdown",
   "id": "1746e633",
   "metadata": {},
   "source": [
    "## Elastic Net Regression Model:"
   ]
  },
  {
   "cell_type": "code",
   "execution_count": 60,
   "id": "5c5bfa8d",
   "metadata": {},
   "outputs": [
    {
     "name": "stdout",
     "output_type": "stream",
     "text": [
      "[123243.65360995  89852.44395609  94707.51507813  59947.98413538\n",
      " 129580.26736527  56953.25121892 105819.97207169 100190.08362974\n",
      "  90563.12027949  99442.38115267]\n"
     ]
    }
   ],
   "source": [
    "# To build an Elastic Net Regression Model:\n",
    "# Scaling the features\n",
    "scaler = StandardScaler()\n",
    "X_train_scaled = scaler.fit_transform(X_train)\n",
    "X_test_scaled = scaler.transform(X_test)\n",
    "# Initializing the Elastic Net regressor\n",
    "elastic_net_reg = ElasticNet()\n",
    "# Fitting the scaled training data to the Elastic Net regressor\n",
    "elastic_net_reg.fit(X_train_scaled, y_train)\n",
    "# Predicting for the scaled test data\n",
    "y_pred = elastic_net_reg.predict(X_test_scaled)\n",
    "print(y_pred)"
   ]
  },
  {
   "cell_type": "code",
   "execution_count": 61,
   "id": "9a40f842",
   "metadata": {},
   "outputs": [
    {
     "data": {
      "text/html": [
       "<div>\n",
       "<style scoped>\n",
       "    .dataframe tbody tr th:only-of-type {\n",
       "        vertical-align: middle;\n",
       "    }\n",
       "\n",
       "    .dataframe tbody tr th {\n",
       "        vertical-align: top;\n",
       "    }\n",
       "\n",
       "    .dataframe thead th {\n",
       "        text-align: right;\n",
       "    }\n",
       "</style>\n",
       "<table border=\"1\" class=\"dataframe\">\n",
       "  <thead>\n",
       "    <tr style=\"text-align: right;\">\n",
       "      <th></th>\n",
       "      <th>Predicted Value</th>\n",
       "      <th>Actual Value</th>\n",
       "    </tr>\n",
       "  </thead>\n",
       "  <tbody>\n",
       "    <tr>\n",
       "      <th>13</th>\n",
       "      <td>123,243.6536</td>\n",
       "      <td>134,307.3500</td>\n",
       "    </tr>\n",
       "    <tr>\n",
       "      <th>39</th>\n",
       "      <td>89,852.4440</td>\n",
       "      <td>81,005.7600</td>\n",
       "    </tr>\n",
       "    <tr>\n",
       "      <th>30</th>\n",
       "      <td>94,707.5151</td>\n",
       "      <td>99,937.5900</td>\n",
       "    </tr>\n",
       "  </tbody>\n",
       "</table>\n",
       "</div>"
      ],
      "text/plain": [
       "    Predicted Value  Actual Value\n",
       "13     123,243.6536  134,307.3500\n",
       "39      89,852.4440   81,005.7600\n",
       "30      94,707.5151   99,937.5900"
      ]
     },
     "execution_count": 61,
     "metadata": {},
     "output_type": "execute_result"
    }
   ],
   "source": [
    "# To view the above result as a data frame:\n",
    "compare = pd.DataFrame(data={'Predicted Value':y_pred, 'Actual Value':y_test})\n",
    "compare.head(3)"
   ]
  },
  {
   "cell_type": "code",
   "execution_count": 62,
   "id": "46ed3803",
   "metadata": {},
   "outputs": [
    {
     "data": {
      "text/html": [
       "<style type=\"text/css\">\n",
       "</style>\n",
       "<table id=\"T_50805\">\n",
       "  <thead>\n",
       "    <tr>\n",
       "      <th class=\"blank level0\" >&nbsp;</th>\n",
       "      <th id=\"T_50805_level0_col0\" class=\"col_heading level0 col0\" >Elastic Net Regression Metrics</th>\n",
       "    </tr>\n",
       "  </thead>\n",
       "  <tbody>\n",
       "    <tr>\n",
       "      <th id=\"T_50805_level0_row0\" class=\"row_heading level0 row0\" >Mean Absolute Error</th>\n",
       "      <td id=\"T_50805_row0_col0\" class=\"data row0 col0\" >9,310.81767</td>\n",
       "    </tr>\n",
       "    <tr>\n",
       "      <th id=\"T_50805_level0_row1\" class=\"row_heading level0 row1\" >Mean Squared Error</th>\n",
       "      <td id=\"T_50805_row1_col0\" class=\"data row1 col0\" >136,703,444.04809</td>\n",
       "    </tr>\n",
       "    <tr>\n",
       "      <th id=\"T_50805_level0_row2\" class=\"row_heading level0 row2\" >Root Mean Squared Error</th>\n",
       "      <td id=\"T_50805_row2_col0\" class=\"data row2 col0\" >11,692.02481</td>\n",
       "    </tr>\n",
       "    <tr>\n",
       "      <th id=\"T_50805_level0_row3\" class=\"row_heading level0 row3\" >R2 Score</th>\n",
       "      <td id=\"T_50805_row3_col0\" class=\"data row3 col0\" >0.83119</td>\n",
       "    </tr>\n",
       "    <tr>\n",
       "      <th id=\"T_50805_level0_row4\" class=\"row_heading level0 row4\" >Adjusted R2 Score</th>\n",
       "      <td id=\"T_50805_row4_col0\" class=\"data row4 col0\" >0.62017</td>\n",
       "    </tr>\n",
       "  </tbody>\n",
       "</table>\n"
      ],
      "text/plain": [
       "<pandas.io.formats.style.Styler at 0x2062e78c130>"
      ]
     },
     "execution_count": 62,
     "metadata": {},
     "output_type": "execute_result"
    }
   ],
   "source": [
    "# To view metrics for the Elastic Net Regression Model:\n",
    "mae_en = mean_absolute_error(y_test, y_pred)\n",
    "mse_en = mean_squared_error(y_test, y_pred)\n",
    "rmse_en = np.sqrt(mean_squared_error(y_test, y_pred))\n",
    "r2_en = r2_score(y_test, y_pred)\n",
    "# To calculate the adjusted r-squared for the testing set\n",
    "n = X_test.shape[0]\n",
    "p = X_test.shape[1]\n",
    "r2 = r2_score(y_test, y_pred)\n",
    "adj_r2_en = 1 - ((1 - r2) * (n - 1)) / (n - p - 1)\n",
    "\n",
    "df = pd.DataFrame({'Mean Absolute Error': [mae_en], 'Mean Squared Error': [mse_en], \n",
    "                   'Root Mean Squared Error': [rmse_en], 'R2 Score': [r2_en],\n",
    "                  'Adjusted R2 Score': [adj_r2_en]})\n",
    "# To present the metrics as a data frame\n",
    "df.transpose().rename(columns={0: \"Elastic Net Regression Metrics\"}).style.format(\"{:,.5f}\")"
   ]
  },
  {
   "cell_type": "markdown",
   "id": "64a59ad2",
   "metadata": {},
   "source": [
    "## CatBoost Regression Model:"
   ]
  },
  {
   "cell_type": "code",
   "execution_count": 63,
   "id": "5e8420e4",
   "metadata": {},
   "outputs": [
    {
     "name": "stdout",
     "output_type": "stream",
     "text": [
      "[131187.2151735   86268.86649963  94078.59828549  61930.80688406\n",
      " 128574.28226046  70330.75259265 114795.79549967  99625.4057493\n",
      "  92332.9598237  115542.07480237]\n"
     ]
    }
   ],
   "source": [
    "# To build a CatBoost Regression Model:\n",
    "cb_model = CatBoostRegressor(verbose=False, random_state=42)\n",
    "cb_model.fit(X_train, y_train)\n",
    "\n",
    "# To predict the testing set y using the CatBoost Regression Model:\n",
    "y_pred = cb_model.predict(X_test)\n",
    "print(y_pred)"
   ]
  },
  {
   "cell_type": "code",
   "execution_count": 64,
   "id": "d0e77e13",
   "metadata": {},
   "outputs": [
    {
     "data": {
      "text/html": [
       "<div>\n",
       "<style scoped>\n",
       "    .dataframe tbody tr th:only-of-type {\n",
       "        vertical-align: middle;\n",
       "    }\n",
       "\n",
       "    .dataframe tbody tr th {\n",
       "        vertical-align: top;\n",
       "    }\n",
       "\n",
       "    .dataframe thead th {\n",
       "        text-align: right;\n",
       "    }\n",
       "</style>\n",
       "<table border=\"1\" class=\"dataframe\">\n",
       "  <thead>\n",
       "    <tr style=\"text-align: right;\">\n",
       "      <th></th>\n",
       "      <th>Predicted Value</th>\n",
       "      <th>Actual Value</th>\n",
       "    </tr>\n",
       "  </thead>\n",
       "  <tbody>\n",
       "    <tr>\n",
       "      <th>13</th>\n",
       "      <td>131,187.2152</td>\n",
       "      <td>134,307.3500</td>\n",
       "    </tr>\n",
       "    <tr>\n",
       "      <th>39</th>\n",
       "      <td>86,268.8665</td>\n",
       "      <td>81,005.7600</td>\n",
       "    </tr>\n",
       "    <tr>\n",
       "      <th>30</th>\n",
       "      <td>94,078.5983</td>\n",
       "      <td>99,937.5900</td>\n",
       "    </tr>\n",
       "  </tbody>\n",
       "</table>\n",
       "</div>"
      ],
      "text/plain": [
       "    Predicted Value  Actual Value\n",
       "13     131,187.2152  134,307.3500\n",
       "39      86,268.8665   81,005.7600\n",
       "30      94,078.5983   99,937.5900"
      ]
     },
     "execution_count": 64,
     "metadata": {},
     "output_type": "execute_result"
    }
   ],
   "source": [
    "# To view the above result as a data frame:\n",
    "compare = pd.DataFrame(data={'Predicted Value':y_pred, 'Actual Value':y_test})\n",
    "compare.head(3)"
   ]
  },
  {
   "cell_type": "code",
   "execution_count": 65,
   "id": "17ec6633",
   "metadata": {},
   "outputs": [
    {
     "data": {
      "text/html": [
       "<style type=\"text/css\">\n",
       "</style>\n",
       "<table id=\"T_73111\">\n",
       "  <thead>\n",
       "    <tr>\n",
       "      <th class=\"blank level0\" >&nbsp;</th>\n",
       "      <th id=\"T_73111_level0_col0\" class=\"col_heading level0 col0\" >CatBoost Regression Metrics</th>\n",
       "    </tr>\n",
       "  </thead>\n",
       "  <tbody>\n",
       "    <tr>\n",
       "      <th id=\"T_73111_level0_row0\" class=\"row_heading level0 row0\" >Mean Absolute Error</th>\n",
       "      <td id=\"T_73111_row0_col0\" class=\"data row0 col0\" >8,426.96161</td>\n",
       "    </tr>\n",
       "    <tr>\n",
       "      <th id=\"T_73111_level0_row1\" class=\"row_heading level0 row1\" >Mean Squared Error</th>\n",
       "      <td id=\"T_73111_row1_col0\" class=\"data row1 col0\" >151,306,763.93533</td>\n",
       "    </tr>\n",
       "    <tr>\n",
       "      <th id=\"T_73111_level0_row2\" class=\"row_heading level0 row2\" >Root Mean Squared Error</th>\n",
       "      <td id=\"T_73111_row2_col0\" class=\"data row2 col0\" >12,300.68144</td>\n",
       "    </tr>\n",
       "    <tr>\n",
       "      <th id=\"T_73111_level0_row3\" class=\"row_heading level0 row3\" >R2 Score</th>\n",
       "      <td id=\"T_73111_row3_col0\" class=\"data row3 col0\" >0.81315</td>\n",
       "    </tr>\n",
       "    <tr>\n",
       "      <th id=\"T_73111_level0_row4\" class=\"row_heading level0 row4\" >Adjusted R2 Score</th>\n",
       "      <td id=\"T_73111_row4_col0\" class=\"data row4 col0\" >0.57960</td>\n",
       "    </tr>\n",
       "  </tbody>\n",
       "</table>\n"
      ],
      "text/plain": [
       "<pandas.io.formats.style.Styler at 0x2062ecd23b0>"
      ]
     },
     "execution_count": 65,
     "metadata": {},
     "output_type": "execute_result"
    }
   ],
   "source": [
    "# To view metrics for the CatBoost Regression Model:\n",
    "mae_cb = mean_absolute_error(y_test, y_pred)\n",
    "mse_cb = mean_squared_error(y_test, y_pred)\n",
    "rmse_cb = np.sqrt(mean_squared_error(y_test, y_pred))\n",
    "r2_cb = r2_score(y_test, y_pred)\n",
    "# To calculate the adjusted r-squared for the testing set\n",
    "n = X_test.shape[0]\n",
    "p = X_test.shape[1]\n",
    "r2 = r2_score(y_test, y_pred)\n",
    "adj_r2_cb = 1 - ((1 - r2) * (n - 1)) / (n - p - 1)\n",
    "\n",
    "df = pd.DataFrame({'Mean Absolute Error': [mae_cb], 'Mean Squared Error': [mse_cb], \n",
    "                   'Root Mean Squared Error': [rmse_cb], 'R2 Score': [r2_cb],\n",
    "                  'Adjusted R2 Score': [adj_r2_cb]})\n",
    "# To present the metrics as a data frame\n",
    "df.transpose().rename(columns={0: \"CatBoost Regression Metrics\"}).style.format(\"{:,.5f}\")"
   ]
  },
  {
   "cell_type": "code",
   "execution_count": 66,
   "id": "bbc74875",
   "metadata": {},
   "outputs": [
    {
     "data": {
      "image/png": "[encoded data removed]",
      "text/plain": [
       "<Figure size 600x300 with 1 Axes>"
      ]
     },
     "metadata": {},
     "output_type": "display_data"
    }
   ],
   "source": [
    "# To create a Feature Importance Plot for the CatBoost Regression Model:\n",
    "feature_importance = cb_model.feature_importances_\n",
    "feature_names = X_train.columns\n",
    "# Create a data frame with feature names and importances\n",
    "data = {'feature_names': feature_names, 'feature_importance': feature_importance}\n",
    "fi_df = pd.DataFrame(data)\n",
    "# Sort the data frame in decreasing order of feature importance\n",
    "fi_df.sort_values(by='feature_importance', ascending=False, inplace=True)\n",
    "# Plot the feature importance using seaborn\n",
    "plt.figure(figsize=(6, 3))\n",
    "sns.barplot(x='feature_importance', y='feature_names', data=fi_df)\n",
    "plt.title('Feature Importance')\n",
    "plt.xlabel('Importance')\n",
    "plt.ylabel('Features')\n",
    "# Add labels to the bars\n",
    "for i, v in enumerate(fi_df['feature_importance']):\n",
    "    plt.text(v + 0.04, i + .25, str(round(v, 3)), fontweight='bold')\n",
    "plt.xlim([0, 80])\n",
    "plt.show()"
   ]
  },
  {
   "cell_type": "markdown",
   "id": "866cdbae",
   "metadata": {},
   "source": [
    "R&D Spend and Marketing Spend were the two most important features in the CatBoost model."
   ]
  },
  {
   "cell_type": "code",
   "execution_count": 67,
   "id": "2af94351",
   "metadata": {},
   "outputs": [
    {
     "data": {
      "text/html": [
       "<div>\n",
       "<style scoped>\n",
       "    .dataframe tbody tr th:only-of-type {\n",
       "        vertical-align: middle;\n",
       "    }\n",
       "\n",
       "    .dataframe tbody tr th {\n",
       "        vertical-align: top;\n",
       "    }\n",
       "\n",
       "    .dataframe thead th {\n",
       "        text-align: right;\n",
       "    }\n",
       "</style>\n",
       "<table border=\"1\" class=\"dataframe\">\n",
       "  <thead>\n",
       "    <tr style=\"text-align: right;\">\n",
       "      <th></th>\n",
       "      <th>Model Name</th>\n",
       "      <th>Mean Absolute Error</th>\n",
       "      <th>Mean Squared Error</th>\n",
       "      <th>Root Mean Squared Error</th>\n",
       "      <th>R2 Score</th>\n",
       "      <th>Adjusted R2 Score</th>\n",
       "    </tr>\n",
       "  </thead>\n",
       "  <tbody>\n",
       "    <tr>\n",
       "      <th>0</th>\n",
       "      <td>XGBoost Regression</td>\n",
       "      <td>6,651.7288</td>\n",
       "      <td>60,326,610.4879</td>\n",
       "      <td>7,767.0207</td>\n",
       "      <td>0.9255</td>\n",
       "      <td>0.8324</td>\n",
       "    </tr>\n",
       "    <tr>\n",
       "      <th>1</th>\n",
       "      <td>Multiple Linear Regression</td>\n",
       "      <td>6,961.4778</td>\n",
       "      <td>82,010,363.0443</td>\n",
       "      <td>9,055.9573</td>\n",
       "      <td>0.8987</td>\n",
       "      <td>0.7721</td>\n",
       "    </tr>\n",
       "    <tr>\n",
       "      <th>2</th>\n",
       "      <td>Random Forest Regression</td>\n",
       "      <td>6,129.2445</td>\n",
       "      <td>70,520,613.3659</td>\n",
       "      <td>8,397.6552</td>\n",
       "      <td>0.9129</td>\n",
       "      <td>0.8041</td>\n",
       "    </tr>\n",
       "    <tr>\n",
       "      <th>3</th>\n",
       "      <td>Lasso Regression</td>\n",
       "      <td>6,960.8884</td>\n",
       "      <td>81,991,620.9462</td>\n",
       "      <td>9,054.9225</td>\n",
       "      <td>0.8987</td>\n",
       "      <td>0.7722</td>\n",
       "    </tr>\n",
       "    <tr>\n",
       "      <th>4</th>\n",
       "      <td>Ridge Regression</td>\n",
       "      <td>7,412.2850</td>\n",
       "      <td>84,731,799.3948</td>\n",
       "      <td>9,204.9877</td>\n",
       "      <td>0.8954</td>\n",
       "      <td>0.7646</td>\n",
       "    </tr>\n",
       "    <tr>\n",
       "      <th>5</th>\n",
       "      <td>K-Nearest Neighbors Regression</td>\n",
       "      <td>19,667.2464</td>\n",
       "      <td>682,933,923.0933</td>\n",
       "      <td>26,133.0045</td>\n",
       "      <td>0.1567</td>\n",
       "      <td>-0.8975</td>\n",
       "    </tr>\n",
       "    <tr>\n",
       "      <th>6</th>\n",
       "      <td>Decision Tree Regression</td>\n",
       "      <td>8,198.5250</td>\n",
       "      <td>111,459,538.0283</td>\n",
       "      <td>10,557.4399</td>\n",
       "      <td>0.8624</td>\n",
       "      <td>0.6903</td>\n",
       "    </tr>\n",
       "    <tr>\n",
       "      <th>7</th>\n",
       "      <td>LightGBM Regression</td>\n",
       "      <td>23,079.6392</td>\n",
       "      <td>697,264,210.8570</td>\n",
       "      <td>26,405.7609</td>\n",
       "      <td>0.1390</td>\n",
       "      <td>-0.9373</td>\n",
       "    </tr>\n",
       "    <tr>\n",
       "      <th>8</th>\n",
       "      <td>AdaBoost Regression</td>\n",
       "      <td>8,034.4727</td>\n",
       "      <td>113,865,429.7026</td>\n",
       "      <td>10,670.7746</td>\n",
       "      <td>0.8594</td>\n",
       "      <td>0.6836</td>\n",
       "    </tr>\n",
       "    <tr>\n",
       "      <th>9</th>\n",
       "      <td>Elastic Net Regression</td>\n",
       "      <td>9,310.8177</td>\n",
       "      <td>136,703,444.0481</td>\n",
       "      <td>11,692.0248</td>\n",
       "      <td>0.8312</td>\n",
       "      <td>0.6202</td>\n",
       "    </tr>\n",
       "    <tr>\n",
       "      <th>10</th>\n",
       "      <td>CatBoost Regression</td>\n",
       "      <td>8,426.9616</td>\n",
       "      <td>151,306,763.9353</td>\n",
       "      <td>12,300.6814</td>\n",
       "      <td>0.8132</td>\n",
       "      <td>0.5796</td>\n",
       "    </tr>\n",
       "  </tbody>\n",
       "</table>\n",
       "</div>"
      ],
      "text/plain": [
       "                        Model Name  Mean Absolute Error  Mean Squared Error  \\\n",
       "0               XGBoost Regression           6,651.7288     60,326,610.4879   \n",
       "1       Multiple Linear Regression           6,961.4778     82,010,363.0443   \n",
       "2         Random Forest Regression           6,129.2445     70,520,613.3659   \n",
       "3                 Lasso Regression           6,960.8884     81,991,620.9462   \n",
       "4                 Ridge Regression           7,412.2850     84,731,799.3948   \n",
       "5   K-Nearest Neighbors Regression          19,667.2464    682,933,923.0933   \n",
       "6         Decision Tree Regression           8,198.5250    111,459,538.0283   \n",
       "7              LightGBM Regression          23,079.6392    697,264,210.8570   \n",
       "8              AdaBoost Regression           8,034.4727    113,865,429.7026   \n",
       "9           Elastic Net Regression           9,310.8177    136,703,444.0481   \n",
       "10             CatBoost Regression           8,426.9616    151,306,763.9353   \n",
       "\n",
       "    Root Mean Squared Error  R2 Score  Adjusted R2 Score  \n",
       "0                7,767.0207    0.9255             0.8324  \n",
       "1                9,055.9573    0.8987             0.7721  \n",
       "2                8,397.6552    0.9129             0.8041  \n",
       "3                9,054.9225    0.8987             0.7722  \n",
       "4                9,204.9877    0.8954             0.7646  \n",
       "5               26,133.0045    0.1567            -0.8975  \n",
       "6               10,557.4399    0.8624             0.6903  \n",
       "7               26,405.7609    0.1390            -0.9373  \n",
       "8               10,670.7746    0.8594             0.6836  \n",
       "9               11,692.0248    0.8312             0.6202  \n",
       "10              12,300.6814    0.8132             0.5796  "
      ]
     },
     "execution_count": 67,
     "metadata": {},
     "output_type": "execute_result"
    }
   ],
   "source": [
    "# To create a data frame with the metrics of the models:\n",
    "results = pd.DataFrame({\n",
    "    'Model Name': ['XGBoost Regression', \n",
    "                   'Multiple Linear Regression',\n",
    "                   'Random Forest Regression',\n",
    "                   'Lasso Regression',\n",
    "                   'Ridge Regression',\n",
    "                   'K-Nearest Neighbors Regression',\n",
    "                   'Decision Tree Regression',\n",
    "                   'LightGBM Regression',\n",
    "                   'AdaBoost Regression',\n",
    "                   'Elastic Net Regression',\n",
    "                   'CatBoost Regression'],\n",
    "    'Mean Absolute Error': [mae_xgb, \n",
    "                            mae_lr,\n",
    "                            mae_rf,\n",
    "                            mae_ls,\n",
    "                            mae_rd,\n",
    "                            mae_knn,\n",
    "                            mae_dt,\n",
    "                            mae_lgbm,\n",
    "                            mae_ada,\n",
    "                            mae_en,\n",
    "                            mae_cb],\n",
    "    'Mean Squared Error': [mse_xgb, \n",
    "                           mse_lr,\n",
    "                           mse_rf,\n",
    "                           mse_ls,\n",
    "                           mse_rd,\n",
    "                           mse_knn,\n",
    "                           mse_dt,\n",
    "                           mse_lgbm,\n",
    "                           mse_ada,\n",
    "                           mse_en,\n",
    "                           mse_cb],\n",
    "    'Root Mean Squared Error': [rmse_xgb, \n",
    "                                rmse_lr,\n",
    "                                rmse_rf,\n",
    "                                rmse_ls,\n",
    "                                rmse_rd,\n",
    "                                rmse_knn,\n",
    "                                rmse_dt,\n",
    "                                rmse_lgbm,\n",
    "                                rmse_ada,\n",
    "                                rmse_en,\n",
    "                                rmse_cb],\n",
    "    'R2 Score': [r2_xgb, \n",
    "                 r2_lr,\n",
    "                 r2_rf,\n",
    "                 r2_ls,\n",
    "                 r2_rd,\n",
    "                 r2_knn,\n",
    "                 r2_dt,\n",
    "                 r2_lgbm,\n",
    "                 r2_ada,\n",
    "                 r2_en,\n",
    "                 r2_cb],\n",
    "    'Adjusted R2 Score': [adj_r2_xgb, \n",
    "                          adj_r2_lr,\n",
    "                          adj_r2_rf,\n",
    "                          adj_r2_ls,\n",
    "                          adj_r2_rd,\n",
    "                          adj_r2_knn,\n",
    "                          adj_r2_dt,\n",
    "                          adj_r2_lgbm,\n",
    "                          adj_r2_ada,\n",
    "                          adj_r2_en,\n",
    "                          adj_r2_cb]\n",
    "})\n",
    "results"
   ]
  },
  {
   "cell_type": "markdown",
   "id": "0350842d",
   "metadata": {},
   "source": [
    "**A regression model should have:**\n",
    "* A high R-squared value.\n",
    "* A low testing set root mean square error (RMSE)."
   ]
  },
  {
   "cell_type": "code",
   "execution_count": 68,
   "id": "06d4c118",
   "metadata": {},
   "outputs": [
    {
     "data": {
      "text/html": [
       "<div>\n",
       "<style scoped>\n",
       "    .dataframe tbody tr th:only-of-type {\n",
       "        vertical-align: middle;\n",
       "    }\n",
       "\n",
       "    .dataframe tbody tr th {\n",
       "        vertical-align: top;\n",
       "    }\n",
       "\n",
       "    .dataframe thead th {\n",
       "        text-align: right;\n",
       "    }\n",
       "</style>\n",
       "<table border=\"1\" class=\"dataframe\">\n",
       "  <thead>\n",
       "    <tr style=\"text-align: right;\">\n",
       "      <th></th>\n",
       "      <th>Model Name</th>\n",
       "      <th>Mean Absolute Error</th>\n",
       "      <th>Mean Squared Error</th>\n",
       "      <th>Root Mean Squared Error</th>\n",
       "      <th>R2 Score</th>\n",
       "      <th>Adjusted R2 Score</th>\n",
       "    </tr>\n",
       "  </thead>\n",
       "  <tbody>\n",
       "    <tr>\n",
       "      <th>0</th>\n",
       "      <td>XGBoost Regression</td>\n",
       "      <td>6,651.7288</td>\n",
       "      <td>60,326,610.4879</td>\n",
       "      <td>7,767.0207</td>\n",
       "      <td>0.9255</td>\n",
       "      <td>0.8324</td>\n",
       "    </tr>\n",
       "    <tr>\n",
       "      <th>2</th>\n",
       "      <td>Random Forest Regression</td>\n",
       "      <td>6,129.2445</td>\n",
       "      <td>70,520,613.3659</td>\n",
       "      <td>8,397.6552</td>\n",
       "      <td>0.9129</td>\n",
       "      <td>0.8041</td>\n",
       "    </tr>\n",
       "    <tr>\n",
       "      <th>3</th>\n",
       "      <td>Lasso Regression</td>\n",
       "      <td>6,960.8884</td>\n",
       "      <td>81,991,620.9462</td>\n",
       "      <td>9,054.9225</td>\n",
       "      <td>0.8987</td>\n",
       "      <td>0.7722</td>\n",
       "    </tr>\n",
       "    <tr>\n",
       "      <th>1</th>\n",
       "      <td>Multiple Linear Regression</td>\n",
       "      <td>6,961.4778</td>\n",
       "      <td>82,010,363.0443</td>\n",
       "      <td>9,055.9573</td>\n",
       "      <td>0.8987</td>\n",
       "      <td>0.7721</td>\n",
       "    </tr>\n",
       "    <tr>\n",
       "      <th>4</th>\n",
       "      <td>Ridge Regression</td>\n",
       "      <td>7,412.2850</td>\n",
       "      <td>84,731,799.3948</td>\n",
       "      <td>9,204.9877</td>\n",
       "      <td>0.8954</td>\n",
       "      <td>0.7646</td>\n",
       "    </tr>\n",
       "    <tr>\n",
       "      <th>6</th>\n",
       "      <td>Decision Tree Regression</td>\n",
       "      <td>8,198.5250</td>\n",
       "      <td>111,459,538.0283</td>\n",
       "      <td>10,557.4399</td>\n",
       "      <td>0.8624</td>\n",
       "      <td>0.6903</td>\n",
       "    </tr>\n",
       "    <tr>\n",
       "      <th>8</th>\n",
       "      <td>AdaBoost Regression</td>\n",
       "      <td>8,034.4727</td>\n",
       "      <td>113,865,429.7026</td>\n",
       "      <td>10,670.7746</td>\n",
       "      <td>0.8594</td>\n",
       "      <td>0.6836</td>\n",
       "    </tr>\n",
       "    <tr>\n",
       "      <th>9</th>\n",
       "      <td>Elastic Net Regression</td>\n",
       "      <td>9,310.8177</td>\n",
       "      <td>136,703,444.0481</td>\n",
       "      <td>11,692.0248</td>\n",
       "      <td>0.8312</td>\n",
       "      <td>0.6202</td>\n",
       "    </tr>\n",
       "    <tr>\n",
       "      <th>10</th>\n",
       "      <td>CatBoost Regression</td>\n",
       "      <td>8,426.9616</td>\n",
       "      <td>151,306,763.9353</td>\n",
       "      <td>12,300.6814</td>\n",
       "      <td>0.8132</td>\n",
       "      <td>0.5796</td>\n",
       "    </tr>\n",
       "    <tr>\n",
       "      <th>5</th>\n",
       "      <td>K-Nearest Neighbors Regression</td>\n",
       "      <td>19,667.2464</td>\n",
       "      <td>682,933,923.0933</td>\n",
       "      <td>26,133.0045</td>\n",
       "      <td>0.1567</td>\n",
       "      <td>-0.8975</td>\n",
       "    </tr>\n",
       "    <tr>\n",
       "      <th>7</th>\n",
       "      <td>LightGBM Regression</td>\n",
       "      <td>23,079.6392</td>\n",
       "      <td>697,264,210.8570</td>\n",
       "      <td>26,405.7609</td>\n",
       "      <td>0.1390</td>\n",
       "      <td>-0.9373</td>\n",
       "    </tr>\n",
       "  </tbody>\n",
       "</table>\n",
       "</div>"
      ],
      "text/plain": [
       "                        Model Name  Mean Absolute Error  Mean Squared Error  \\\n",
       "0               XGBoost Regression           6,651.7288     60,326,610.4879   \n",
       "2         Random Forest Regression           6,129.2445     70,520,613.3659   \n",
       "3                 Lasso Regression           6,960.8884     81,991,620.9462   \n",
       "1       Multiple Linear Regression           6,961.4778     82,010,363.0443   \n",
       "4                 Ridge Regression           7,412.2850     84,731,799.3948   \n",
       "6         Decision Tree Regression           8,198.5250    111,459,538.0283   \n",
       "8              AdaBoost Regression           8,034.4727    113,865,429.7026   \n",
       "9           Elastic Net Regression           9,310.8177    136,703,444.0481   \n",
       "10             CatBoost Regression           8,426.9616    151,306,763.9353   \n",
       "5   K-Nearest Neighbors Regression          19,667.2464    682,933,923.0933   \n",
       "7              LightGBM Regression          23,079.6392    697,264,210.8570   \n",
       "\n",
       "    Root Mean Squared Error  R2 Score  Adjusted R2 Score  \n",
       "0                7,767.0207    0.9255             0.8324  \n",
       "2                8,397.6552    0.9129             0.8041  \n",
       "3                9,054.9225    0.8987             0.7722  \n",
       "1                9,055.9573    0.8987             0.7721  \n",
       "4                9,204.9877    0.8954             0.7646  \n",
       "6               10,557.4399    0.8624             0.6903  \n",
       "8               10,670.7746    0.8594             0.6836  \n",
       "9               11,692.0248    0.8312             0.6202  \n",
       "10              12,300.6814    0.8132             0.5796  \n",
       "5               26,133.0045    0.1567            -0.8975  \n",
       "7               26,405.7609    0.1390            -0.9373  "
      ]
     },
     "execution_count": 68,
     "metadata": {},
     "output_type": "execute_result"
    }
   ],
   "source": [
    "# To sort the result data frame by R2 score in descending order:\n",
    "result_by_R2 = results.sort_values(by='R2 Score', ascending=False)\n",
    "result_by_R2"
   ]
  },
  {
   "cell_type": "markdown",
   "id": "66657b03",
   "metadata": {},
   "source": [
    "If the R-squared metric is the focus, then the XGBoost Regressor should be selected as the model to use for predictions. It had the highest R-squared value."
   ]
  },
  {
   "cell_type": "code",
   "execution_count": 69,
   "id": "8e7f6841",
   "metadata": {},
   "outputs": [
    {
     "data": {
      "text/html": [
       "<div>\n",
       "<style scoped>\n",
       "    .dataframe tbody tr th:only-of-type {\n",
       "        vertical-align: middle;\n",
       "    }\n",
       "\n",
       "    .dataframe tbody tr th {\n",
       "        vertical-align: top;\n",
       "    }\n",
       "\n",
       "    .dataframe thead th {\n",
       "        text-align: right;\n",
       "    }\n",
       "</style>\n",
       "<table border=\"1\" class=\"dataframe\">\n",
       "  <thead>\n",
       "    <tr style=\"text-align: right;\">\n",
       "      <th></th>\n",
       "      <th>Model Name</th>\n",
       "      <th>Mean Absolute Error</th>\n",
       "      <th>Mean Squared Error</th>\n",
       "      <th>Root Mean Squared Error</th>\n",
       "      <th>R2 Score</th>\n",
       "      <th>Adjusted R2 Score</th>\n",
       "    </tr>\n",
       "  </thead>\n",
       "  <tbody>\n",
       "    <tr>\n",
       "      <th>0</th>\n",
       "      <td>XGBoost Regression</td>\n",
       "      <td>6,651.7288</td>\n",
       "      <td>60,326,610.4879</td>\n",
       "      <td>7,767.0207</td>\n",
       "      <td>0.9255</td>\n",
       "      <td>0.8324</td>\n",
       "    </tr>\n",
       "    <tr>\n",
       "      <th>2</th>\n",
       "      <td>Random Forest Regression</td>\n",
       "      <td>6,129.2445</td>\n",
       "      <td>70,520,613.3659</td>\n",
       "      <td>8,397.6552</td>\n",
       "      <td>0.9129</td>\n",
       "      <td>0.8041</td>\n",
       "    </tr>\n",
       "    <tr>\n",
       "      <th>3</th>\n",
       "      <td>Lasso Regression</td>\n",
       "      <td>6,960.8884</td>\n",
       "      <td>81,991,620.9462</td>\n",
       "      <td>9,054.9225</td>\n",
       "      <td>0.8987</td>\n",
       "      <td>0.7722</td>\n",
       "    </tr>\n",
       "    <tr>\n",
       "      <th>1</th>\n",
       "      <td>Multiple Linear Regression</td>\n",
       "      <td>6,961.4778</td>\n",
       "      <td>82,010,363.0443</td>\n",
       "      <td>9,055.9573</td>\n",
       "      <td>0.8987</td>\n",
       "      <td>0.7721</td>\n",
       "    </tr>\n",
       "    <tr>\n",
       "      <th>4</th>\n",
       "      <td>Ridge Regression</td>\n",
       "      <td>7,412.2850</td>\n",
       "      <td>84,731,799.3948</td>\n",
       "      <td>9,204.9877</td>\n",
       "      <td>0.8954</td>\n",
       "      <td>0.7646</td>\n",
       "    </tr>\n",
       "    <tr>\n",
       "      <th>6</th>\n",
       "      <td>Decision Tree Regression</td>\n",
       "      <td>8,198.5250</td>\n",
       "      <td>111,459,538.0283</td>\n",
       "      <td>10,557.4399</td>\n",
       "      <td>0.8624</td>\n",
       "      <td>0.6903</td>\n",
       "    </tr>\n",
       "    <tr>\n",
       "      <th>8</th>\n",
       "      <td>AdaBoost Regression</td>\n",
       "      <td>8,034.4727</td>\n",
       "      <td>113,865,429.7026</td>\n",
       "      <td>10,670.7746</td>\n",
       "      <td>0.8594</td>\n",
       "      <td>0.6836</td>\n",
       "    </tr>\n",
       "    <tr>\n",
       "      <th>9</th>\n",
       "      <td>Elastic Net Regression</td>\n",
       "      <td>9,310.8177</td>\n",
       "      <td>136,703,444.0481</td>\n",
       "      <td>11,692.0248</td>\n",
       "      <td>0.8312</td>\n",
       "      <td>0.6202</td>\n",
       "    </tr>\n",
       "    <tr>\n",
       "      <th>10</th>\n",
       "      <td>CatBoost Regression</td>\n",
       "      <td>8,426.9616</td>\n",
       "      <td>151,306,763.9353</td>\n",
       "      <td>12,300.6814</td>\n",
       "      <td>0.8132</td>\n",
       "      <td>0.5796</td>\n",
       "    </tr>\n",
       "    <tr>\n",
       "      <th>5</th>\n",
       "      <td>K-Nearest Neighbors Regression</td>\n",
       "      <td>19,667.2464</td>\n",
       "      <td>682,933,923.0933</td>\n",
       "      <td>26,133.0045</td>\n",
       "      <td>0.1567</td>\n",
       "      <td>-0.8975</td>\n",
       "    </tr>\n",
       "    <tr>\n",
       "      <th>7</th>\n",
       "      <td>LightGBM Regression</td>\n",
       "      <td>23,079.6392</td>\n",
       "      <td>697,264,210.8570</td>\n",
       "      <td>26,405.7609</td>\n",
       "      <td>0.1390</td>\n",
       "      <td>-0.9373</td>\n",
       "    </tr>\n",
       "  </tbody>\n",
       "</table>\n",
       "</div>"
      ],
      "text/plain": [
       "                        Model Name  Mean Absolute Error  Mean Squared Error  \\\n",
       "0               XGBoost Regression           6,651.7288     60,326,610.4879   \n",
       "2         Random Forest Regression           6,129.2445     70,520,613.3659   \n",
       "3                 Lasso Regression           6,960.8884     81,991,620.9462   \n",
       "1       Multiple Linear Regression           6,961.4778     82,010,363.0443   \n",
       "4                 Ridge Regression           7,412.2850     84,731,799.3948   \n",
       "6         Decision Tree Regression           8,198.5250    111,459,538.0283   \n",
       "8              AdaBoost Regression           8,034.4727    113,865,429.7026   \n",
       "9           Elastic Net Regression           9,310.8177    136,703,444.0481   \n",
       "10             CatBoost Regression           8,426.9616    151,306,763.9353   \n",
       "5   K-Nearest Neighbors Regression          19,667.2464    682,933,923.0933   \n",
       "7              LightGBM Regression          23,079.6392    697,264,210.8570   \n",
       "\n",
       "    Root Mean Squared Error  R2 Score  Adjusted R2 Score  \n",
       "0                7,767.0207    0.9255             0.8324  \n",
       "2                8,397.6552    0.9129             0.8041  \n",
       "3                9,054.9225    0.8987             0.7722  \n",
       "1                9,055.9573    0.8987             0.7721  \n",
       "4                9,204.9877    0.8954             0.7646  \n",
       "6               10,557.4399    0.8624             0.6903  \n",
       "8               10,670.7746    0.8594             0.6836  \n",
       "9               11,692.0248    0.8312             0.6202  \n",
       "10              12,300.6814    0.8132             0.5796  \n",
       "5               26,133.0045    0.1567            -0.8975  \n",
       "7               26,405.7609    0.1390            -0.9373  "
      ]
     },
     "execution_count": 69,
     "metadata": {},
     "output_type": "execute_result"
    }
   ],
   "source": [
    "# To sort the result data frame by RMSE score in ascending order:\n",
    "result_by_RMSE = results.sort_values(by='Root Mean Squared Error', ascending=True)\n",
    "result_by_RMSE"
   ]
  },
  {
   "cell_type": "markdown",
   "id": "7b80160c",
   "metadata": {},
   "source": [
    "If the RMSE is the focus, then the XGBoost Regressor should be selected as the model to use for predictions. It had the lowest RMSE value."
   ]
  },
  {
   "cell_type": "markdown",
   "id": "548c27ad",
   "metadata": {},
   "source": [
    "## To Use the XGBoost Regression Model to Predict on New Data:"
   ]
  },
  {
   "cell_type": "markdown",
   "id": "19f52060",
   "metadata": {},
   "source": [
    "It can be a good practice to view the minimum and maximum value of each numeric column, to know what range to try and keep the input values in when trying to generate a predicted value."
   ]
  },
  {
   "cell_type": "code",
   "execution_count": 70,
   "id": "0a39cc7f",
   "metadata": {},
   "outputs": [
    {
     "name": "stdout",
     "output_type": "stream",
     "text": [
      "Min R&D Spend: $0.00\n",
      "Max R&D Spend: $165,349.20\n"
     ]
    }
   ],
   "source": [
    "# To view the min and max R&D Spend in the original data frame:\n",
    "print('Min R&D Spend: ${:,.2f}'.format(startup_df['R&D Spend'].min()))\n",
    "print('Max R&D Spend: ${:,.2f}'.format(startup_df['R&D Spend'].max()))"
   ]
  },
  {
   "cell_type": "code",
   "execution_count": 71,
   "id": "949aaec4",
   "metadata": {},
   "outputs": [
    {
     "name": "stdout",
     "output_type": "stream",
     "text": [
      "Min Administration Expense: $51,283.14\n",
      "Max Administration Expense: $182,645.56\n"
     ]
    }
   ],
   "source": [
    "# To view the min and max Administration Spend in the original data frame:\n",
    "print('Min Administration Expense: ${:,.2f}'.format(startup_df['Administration'].min()))\n",
    "print('Max Administration Expense: ${:,.2f}'.format(startup_df['Administration'].max()))"
   ]
  },
  {
   "cell_type": "code",
   "execution_count": 72,
   "id": "aeb8875d",
   "metadata": {},
   "outputs": [
    {
     "name": "stdout",
     "output_type": "stream",
     "text": [
      "Min Marketing Spend: $0.00\n",
      "Max Marketing Spend: $471,784.10\n"
     ]
    }
   ],
   "source": [
    "# To view the min and max Marketing Spend in the original data frame:\n",
    "print('Min Marketing Spend: ${:,.2f}'.format(startup_df['Marketing Spend'].min()))\n",
    "print('Max Marketing Spend: ${:,.2f}'.format(startup_df['Marketing Spend'].max()))"
   ]
  },
  {
   "cell_type": "code",
   "execution_count": 73,
   "id": "531be5e5",
   "metadata": {},
   "outputs": [
    {
     "name": "stdout",
     "output_type": "stream",
     "text": [
      "Min Profit: $14,681.40\n",
      "Max Profit: $192,261.83\n"
     ]
    }
   ],
   "source": [
    "# To view the min and max Profit in the original data frame:\n",
    "print('Min Profit: ${:,.2f}'.format(startup_df['Profit'].min()))\n",
    "print('Max Profit: ${:,.2f}'.format(startup_df['Profit'].max()))"
   ]
  },
  {
   "cell_type": "code",
   "execution_count": 74,
   "id": "1fe83cff",
   "metadata": {},
   "outputs": [
    {
     "data": {
      "text/html": [
       "<div>\n",
       "<style scoped>\n",
       "    .dataframe tbody tr th:only-of-type {\n",
       "        vertical-align: middle;\n",
       "    }\n",
       "\n",
       "    .dataframe tbody tr th {\n",
       "        vertical-align: top;\n",
       "    }\n",
       "\n",
       "    .dataframe thead th {\n",
       "        text-align: right;\n",
       "    }\n",
       "</style>\n",
       "<table border=\"1\" class=\"dataframe\">\n",
       "  <thead>\n",
       "    <tr style=\"text-align: right;\">\n",
       "      <th></th>\n",
       "      <th>R&amp;D Spend</th>\n",
       "      <th>Administration</th>\n",
       "      <th>Marketing Spend</th>\n",
       "      <th>State</th>\n",
       "    </tr>\n",
       "  </thead>\n",
       "  <tbody>\n",
       "    <tr>\n",
       "      <th>0</th>\n",
       "      <td>132,455.8700</td>\n",
       "      <td>1,235,674.9800</td>\n",
       "      <td>678,343.0000</td>\n",
       "      <td>California</td>\n",
       "    </tr>\n",
       "  </tbody>\n",
       "</table>\n",
       "</div>"
      ],
      "text/plain": [
       "     R&D Spend  Administration  Marketing Spend       State\n",
       "0 132,455.8700  1,235,674.9800     678,343.0000  California"
      ]
     },
     "execution_count": 74,
     "metadata": {},
     "output_type": "execute_result"
    }
   ],
   "source": [
    "# To create new data to make a prediction with the model:\n",
    "new_data1 = pd.DataFrame({'R&D Spend': [132455.87],\n",
    "                         'Administration': [1235674.98],\n",
    "                         'Marketing Spend': [678343.00],\n",
    "                         'State': ['California']})\n",
    "new_data1"
   ]
  },
  {
   "cell_type": "code",
   "execution_count": 75,
   "id": "9f4675d4",
   "metadata": {},
   "outputs": [],
   "source": [
    "# To encode the character columns of new_data1:\n",
    "new_data_encoded = pd.get_dummies(new_data1)"
   ]
  },
  {
   "cell_type": "code",
   "execution_count": 76,
   "id": "f9d8d071",
   "metadata": {},
   "outputs": [
    {
     "data": {
      "text/html": [
       "<div>\n",
       "<style scoped>\n",
       "    .dataframe tbody tr th:only-of-type {\n",
       "        vertical-align: middle;\n",
       "    }\n",
       "\n",
       "    .dataframe tbody tr th {\n",
       "        vertical-align: top;\n",
       "    }\n",
       "\n",
       "    .dataframe thead th {\n",
       "        text-align: right;\n",
       "    }\n",
       "</style>\n",
       "<table border=\"1\" class=\"dataframe\">\n",
       "  <thead>\n",
       "    <tr style=\"text-align: right;\">\n",
       "      <th></th>\n",
       "      <th>R&amp;D Spend</th>\n",
       "      <th>Administration</th>\n",
       "      <th>Marketing Spend</th>\n",
       "      <th>State_California</th>\n",
       "    </tr>\n",
       "  </thead>\n",
       "  <tbody>\n",
       "    <tr>\n",
       "      <th>0</th>\n",
       "      <td>132,455.8700</td>\n",
       "      <td>1,235,674.9800</td>\n",
       "      <td>678,343.0000</td>\n",
       "      <td>1</td>\n",
       "    </tr>\n",
       "  </tbody>\n",
       "</table>\n",
       "</div>"
      ],
      "text/plain": [
       "     R&D Spend  Administration  Marketing Spend  State_California\n",
       "0 132,455.8700  1,235,674.9800     678,343.0000                 1"
      ]
     },
     "execution_count": 76,
     "metadata": {},
     "output_type": "execute_result"
    }
   ],
   "source": [
    "# To view the encoded new_data1:\n",
    "new_data_encoded"
   ]
  },
  {
   "cell_type": "code",
   "execution_count": 77,
   "id": "eddeef41",
   "metadata": {},
   "outputs": [],
   "source": [
    "# To add missing columns from startup_df_c to new_data1:\n",
    "missing_cols = set(startup_df_c.columns) - set(new_data_encoded.columns)\n",
    "for col in missing_cols:\n",
    "    new_data_encoded[col] = 0"
   ]
  },
  {
   "cell_type": "code",
   "execution_count": 78,
   "id": "fc50839e",
   "metadata": {},
   "outputs": [
    {
     "data": {
      "text/plain": [
       "{'Profit', 'State_Florida', 'State_New York'}"
      ]
     },
     "execution_count": 78,
     "metadata": {},
     "output_type": "execute_result"
    }
   ],
   "source": [
    "# To view the missing columns:\n",
    "missing_cols"
   ]
  },
  {
   "cell_type": "code",
   "execution_count": 79,
   "id": "c85ca657",
   "metadata": {},
   "outputs": [
    {
     "data": {
      "text/html": [
       "<div>\n",
       "<style scoped>\n",
       "    .dataframe tbody tr th:only-of-type {\n",
       "        vertical-align: middle;\n",
       "    }\n",
       "\n",
       "    .dataframe tbody tr th {\n",
       "        vertical-align: top;\n",
       "    }\n",
       "\n",
       "    .dataframe thead th {\n",
       "        text-align: right;\n",
       "    }\n",
       "</style>\n",
       "<table border=\"1\" class=\"dataframe\">\n",
       "  <thead>\n",
       "    <tr style=\"text-align: right;\">\n",
       "      <th></th>\n",
       "      <th>R&amp;D Spend</th>\n",
       "      <th>Administration</th>\n",
       "      <th>Marketing Spend</th>\n",
       "      <th>State_Florida</th>\n",
       "      <th>State_New York</th>\n",
       "    </tr>\n",
       "  </thead>\n",
       "  <tbody>\n",
       "    <tr>\n",
       "      <th>0</th>\n",
       "      <td>132,455.8700</td>\n",
       "      <td>1,235,674.9800</td>\n",
       "      <td>678,343.0000</td>\n",
       "      <td>0</td>\n",
       "      <td>0</td>\n",
       "    </tr>\n",
       "  </tbody>\n",
       "</table>\n",
       "</div>"
      ],
      "text/plain": [
       "     R&D Spend  Administration  Marketing Spend  State_Florida  State_New York\n",
       "0 132,455.8700  1,235,674.9800     678,343.0000              0               0"
      ]
     },
     "execution_count": 79,
     "metadata": {},
     "output_type": "execute_result"
    }
   ],
   "source": [
    "# To reorder the columns to match the training data:\n",
    "new_data_encoded = new_data_encoded[startup_df_c.drop('Profit', axis=1).columns]\n",
    "new_data_encoded"
   ]
  },
  {
   "cell_type": "code",
   "execution_count": 80,
   "id": "88b355dc",
   "metadata": {},
   "outputs": [
    {
     "data": {
      "text/html": [
       "<div>\n",
       "<style scoped>\n",
       "    .dataframe tbody tr th:only-of-type {\n",
       "        vertical-align: middle;\n",
       "    }\n",
       "\n",
       "    .dataframe tbody tr th {\n",
       "        vertical-align: top;\n",
       "    }\n",
       "\n",
       "    .dataframe thead th {\n",
       "        text-align: right;\n",
       "    }\n",
       "</style>\n",
       "<table border=\"1\" class=\"dataframe\">\n",
       "  <thead>\n",
       "    <tr style=\"text-align: right;\">\n",
       "      <th></th>\n",
       "      <th>R&amp;D Spend</th>\n",
       "      <th>Administration</th>\n",
       "      <th>Marketing Spend</th>\n",
       "      <th>State_Florida</th>\n",
       "      <th>State_New York</th>\n",
       "    </tr>\n",
       "  </thead>\n",
       "  <tbody>\n",
       "    <tr>\n",
       "      <th>12</th>\n",
       "      <td>93,863.7500</td>\n",
       "      <td>127,320.3800</td>\n",
       "      <td>249,839.4400</td>\n",
       "      <td>1</td>\n",
       "      <td>0</td>\n",
       "    </tr>\n",
       "  </tbody>\n",
       "</table>\n",
       "</div>"
      ],
      "text/plain": [
       "     R&D Spend  Administration  Marketing Spend  State_Florida  State_New York\n",
       "12 93,863.7500    127,320.3800     249,839.4400              1               0"
      ]
     },
     "execution_count": 80,
     "metadata": {},
     "output_type": "execute_result"
    }
   ],
   "source": [
    "# To see that the new_data_encoded data frame columns match the\n",
    "# X_train columns:\n",
    "X_train.head(1)"
   ]
  },
  {
   "cell_type": "markdown",
   "id": "b32ad56b",
   "metadata": {},
   "source": [
    "The columns from new_data_encoded and X_train match."
   ]
  },
  {
   "cell_type": "code",
   "execution_count": 81,
   "id": "edf216af",
   "metadata": {},
   "outputs": [],
   "source": [
    "# To use the XGBoost Regression Model to make a prediction:\n",
    "new_pred1_xgb = xgb_model.predict(new_data_encoded)"
   ]
  },
  {
   "cell_type": "code",
   "execution_count": 82,
   "id": "bad29ba3",
   "metadata": {},
   "outputs": [
    {
     "name": "stdout",
     "output_type": "stream",
     "text": [
      "[154958.64]\n"
     ]
    }
   ],
   "source": [
    "# To print the prediction:\n",
    "print(new_pred1_xgb)"
   ]
  },
  {
   "cell_type": "code",
   "execution_count": 83,
   "id": "2bf80b56",
   "metadata": {},
   "outputs": [
    {
     "data": {
      "text/html": [
       "<div>\n",
       "<style scoped>\n",
       "    .dataframe tbody tr th:only-of-type {\n",
       "        vertical-align: middle;\n",
       "    }\n",
       "\n",
       "    .dataframe tbody tr th {\n",
       "        vertical-align: top;\n",
       "    }\n",
       "\n",
       "    .dataframe thead th {\n",
       "        text-align: right;\n",
       "    }\n",
       "</style>\n",
       "<table border=\"1\" class=\"dataframe\">\n",
       "  <thead>\n",
       "    <tr style=\"text-align: right;\">\n",
       "      <th></th>\n",
       "      <th>Predicted Value</th>\n",
       "    </tr>\n",
       "  </thead>\n",
       "  <tbody>\n",
       "    <tr>\n",
       "      <th>0</th>\n",
       "      <td>154,958.6406</td>\n",
       "    </tr>\n",
       "  </tbody>\n",
       "</table>\n",
       "</div>"
      ],
      "text/plain": [
       "   Predicted Value\n",
       "0     154,958.6406"
      ]
     },
     "execution_count": 83,
     "metadata": {},
     "output_type": "execute_result"
    }
   ],
   "source": [
    "# To view the above prediction as a data frame:\n",
    "new_pred1_xgb = pd.DataFrame(new_pred1_xgb, columns=['Predicted Value'])\n",
    "new_pred1_xgb"
   ]
  },
  {
   "cell_type": "code",
   "execution_count": 84,
   "id": "7478bb4e",
   "metadata": {},
   "outputs": [
    {
     "data": {
      "text/html": [
       "<div>\n",
       "<style scoped>\n",
       "    .dataframe tbody tr th:only-of-type {\n",
       "        vertical-align: middle;\n",
       "    }\n",
       "\n",
       "    .dataframe tbody tr th {\n",
       "        vertical-align: top;\n",
       "    }\n",
       "\n",
       "    .dataframe thead th {\n",
       "        text-align: right;\n",
       "    }\n",
       "</style>\n",
       "<table border=\"1\" class=\"dataframe\">\n",
       "  <thead>\n",
       "    <tr style=\"text-align: right;\">\n",
       "      <th></th>\n",
       "      <th>R&amp;D Spend</th>\n",
       "      <th>Administration</th>\n",
       "      <th>Marketing Spend</th>\n",
       "      <th>State</th>\n",
       "      <th>Predicted Value</th>\n",
       "    </tr>\n",
       "  </thead>\n",
       "  <tbody>\n",
       "    <tr>\n",
       "      <th>0</th>\n",
       "      <td>132,455.8700</td>\n",
       "      <td>1,235,674.9800</td>\n",
       "      <td>678,343.0000</td>\n",
       "      <td>California</td>\n",
       "      <td>154,958.6406</td>\n",
       "    </tr>\n",
       "  </tbody>\n",
       "</table>\n",
       "</div>"
      ],
      "text/plain": [
       "     R&D Spend  Administration  Marketing Spend       State  Predicted Value\n",
       "0 132,455.8700  1,235,674.9800     678,343.0000  California     154,958.6406"
      ]
     },
     "execution_count": 84,
     "metadata": {},
     "output_type": "execute_result"
    }
   ],
   "source": [
    "# To combine the inputs and the predicted value:\n",
    "df1 = pd.concat([new_data1, new_pred1_xgb], axis=1)\n",
    "df1"
   ]
  },
  {
   "cell_type": "markdown",
   "id": "3f4aa52b",
   "metadata": {},
   "source": [
    "# Findings:\n",
    "* Profit had a very high positive correlation with R&D Spend.<br><br>\n",
    "* Profit had a high positive correlation with Marketing Spend.<br><br>\n",
    "* As a group, the startup companies in New York had the highest Total Profit.<br><br>\n",
    "* In each State, the highest expense for the startup companies was Marketing Spend.<br><br>\n",
    "* As a group, the startup companies in Florida had the highest Average Marketing Spend.<br><br>\n",
    "* Several Machine Learning Regression algorithms were used. The XGBoost Regression model was selected to predict Profit, because the XGBoost Regression model had the highest R-squared value and the lowest RMSE value.<br>\n",
    "<br>\n",
    "<br>\n",
    "<br>"
   ]
  }
 ],
 "metadata": {
  "kernelspec": {
   "display_name": "Python 3 (ipykernel)",
   "language": "python",
   "name": "python3"
  },
  "language_info": {
   "codemirror_mode": {
    "name": "ipython",
    "version": 3
   },
   "file_extension": ".py",
   "mimetype": "text/x-python",
   "name": "python",
   "nbconvert_exporter": "python",
   "pygments_lexer": "ipython3",
   "version": "3.10.9"
  }
 },
 "nbformat": 4,
 "nbformat_minor": 5
}
